{
 "cells": [
  {
   "cell_type": "code",
   "execution_count": 4,
   "metadata": {},
   "outputs": [],
   "source": [
    "from models import *\n",
    "from utility import *\n",
    "import logging\n",
    "import os\n",
    "import yaml\n",
    "from pathlib import Path\n",
    "import plotly\n",
    "from adapter import OstiMongoAdapter\n",
    "import pandas as pd\n",
    "from typing import Union, List, Dict\n",
    "import plotly.express as px\n",
    "import plotly.graph_objects as go"
   ]
  },
  {
   "cell_type": "code",
   "execution_count": 5,
   "metadata": {},
   "outputs": [],
   "source": [
    "# configuration stuff\n",
    "config_file = Path(os.path.abspath('')).parent / \"files\" / \"config.yaml\"\n",
    "config = yaml.load(open(config_file.as_posix(), 'r'), Loader=yaml.SafeLoader)\n",
    "\n",
    "# prepare\n",
    "oma = OstiMongoAdapter.from_config(config)\n",
    "elink = ConnectionModel.parse_obj(config[\"osti\"][\"elink\"])\n",
    "explorer = ConnectionModel.parse_obj(config[\"osti\"][\"explorer\"])\n",
    "osti = OSTIModel(elink=elink, explorer=explorer)\n",
    "oma.materials_store.connect()\n",
    "oma.doi_store.connect()"
   ]
  },
  {
   "cell_type": "code",
   "execution_count": 6,
   "metadata": {},
   "outputs": [],
   "source": [
    "def mongo_to_panda(mongo_store, \n",
    "                   criteria:dict = {}, \n",
    "                   properties:Union[Dict, List, None]=None,\n",
    "                   skip:int=0, limit:int=0, no_id=True):\n",
    "    cursor = list(mongo_store.query(criteria=criteria, properties=properties, skip=skip, limit=limit))\n",
    "    df = pd.DataFrame(list(cursor))\n",
    "    if no_id:\n",
    "        del df['_id']\n",
    "    return df"
   ]
  },
  {
   "cell_type": "code",
   "execution_count": 7,
   "metadata": {},
   "outputs": [],
   "source": [
    "def make_doi_status():\n",
    "    df = mongo_to_panda(oma.doi_store)\n",
    "    labels=df.status.unique()\n",
    "    values = df.status.value_counts()\n",
    "    fig=go.Figure(data=[go.Pie(labels=labels, values=values, hole=.5, name=\"status\")])\n",
    "    fig.update_layout(annotations=[dict(text=\"Status\", font_size=20, showarrow=False)])\n",
    "    return fig\n",
    "def make_doi_valid():\n",
    "    df = mongo_to_panda(oma.doi_store)\n",
    "    labels=df.valid.unique()\n",
    "    values = df.valid.value_counts()\n",
    "    fig=go.Figure(data=[go.Pie(labels=labels, values=values, hole=.5, name=\"valid\")])\n",
    "    fig.update_layout(annotations=[dict(text=\"Valid\", font_size=20, showarrow=False)])\n",
    "    return fig\n",
    "def make_doi_last_updated():\n",
    "    df = mongo_to_panda(oma.doi_store)\n",
    "    df.last_updated = [f\"{t.year}/{t.month}/{t.day}\" for t in df.last_updated] # only get the days\n",
    "    labels=df.last_updated.unique()\n",
    "    values = df.last_updated.value_counts()\n",
    "    fig=go.Figure(data=[go.Pie(labels=labels, values=values, hole=.5, name=\"last_updated\")])\n",
    "    fig.update_layout(annotations=[dict(text=\"Last Updated\", font_size=20, showarrow=False)])\n",
    "    return fig\n",
    "def make_doi_bibtex():\n",
    "    df = mongo_to_panda(oma.doi_store)\n",
    "    bibtex_bool = [\"Does not have Bibtex\" if i == None else \"Has Bibtex\" for i in df.bibtex]\n",
    "    df[\"bibtex_bool\"] = bibtex_bool\n",
    "    labels=df.bibtex_bool.unique()\n",
    "    values = df.bibtex_bool.value_counts()\n",
    "    fig=go.Figure(data=[go.Pie(labels=labels, values=values, hole=.5, name=\"bibtex\")])\n",
    "    fig.update_layout(annotations=[dict(text=\"bibtex\", font_size=20, showarrow=False)])\n",
    "    return fig"
   ]
  },
  {
   "cell_type": "code",
   "execution_count": 8,
   "metadata": {},
   "outputs": [],
   "source": [
    "def make_doi_citation_created():\n",
    "    labels = [\"DOI Citation Not Created\", \"DOI Citation Pending\", \"DOI Citation Completed\"]\n",
    "    pending_len = len([i for i in oma.doi_store.query(criteria={\"status\":\"PENDING\"})])\n",
    "    values = [oma.materials_store.count()-oma.doi_store.count(),\n",
    "              pending_len,\n",
    "              oma.doi_store.count() - pending_len\n",
    "             ]\n",
    "    fig = go.Figure(data=[go.Pie(labels=labels, values=values, hole=.5)])\n",
    "    fig.update_layout(annotations=[dict(text=\"DOI Citation\", font_size=20, showarrow=False)])\n",
    "    return fig"
   ]
  },
  {
   "cell_type": "code",
   "execution_count": 12,
   "metadata": {
    "scrolled": true
   },
   "outputs": [
    {
     "data": {
      "application/vnd.plotly.v1+json": {
       "config": {
        "plotlyServerURL": "https://plot.ly"
       },
       "data": [
        {
         "hole": 0.5,
         "labels": [
          "DOI Citation Not Created",
          "DOI Citation Pending",
          "DOI Citation Completed"
         ],
         "type": "pie",
         "values": [
          143292,
          20,
          3
         ]
        }
       ],
       "layout": {
        "annotations": [
         {
          "font": {
           "size": 20
          },
          "showarrow": false,
          "text": "DOI Citation"
         }
        ],
        "template": {
         "data": {
          "bar": [
           {
            "error_x": {
             "color": "#2a3f5f"
            },
            "error_y": {
             "color": "#2a3f5f"
            },
            "marker": {
             "line": {
              "color": "#E5ECF6",
              "width": 0.5
             }
            },
            "type": "bar"
           }
          ],
          "barpolar": [
           {
            "marker": {
             "line": {
              "color": "#E5ECF6",
              "width": 0.5
             }
            },
            "type": "barpolar"
           }
          ],
          "carpet": [
           {
            "aaxis": {
             "endlinecolor": "#2a3f5f",
             "gridcolor": "white",
             "linecolor": "white",
             "minorgridcolor": "white",
             "startlinecolor": "#2a3f5f"
            },
            "baxis": {
             "endlinecolor": "#2a3f5f",
             "gridcolor": "white",
             "linecolor": "white",
             "minorgridcolor": "white",
             "startlinecolor": "#2a3f5f"
            },
            "type": "carpet"
           }
          ],
          "choropleth": [
           {
            "colorbar": {
             "outlinewidth": 0,
             "ticks": ""
            },
            "type": "choropleth"
           }
          ],
          "contour": [
           {
            "colorbar": {
             "outlinewidth": 0,
             "ticks": ""
            },
            "colorscale": [
             [
              0,
              "#0d0887"
             ],
             [
              0.1111111111111111,
              "#46039f"
             ],
             [
              0.2222222222222222,
              "#7201a8"
             ],
             [
              0.3333333333333333,
              "#9c179e"
             ],
             [
              0.4444444444444444,
              "#bd3786"
             ],
             [
              0.5555555555555556,
              "#d8576b"
             ],
             [
              0.6666666666666666,
              "#ed7953"
             ],
             [
              0.7777777777777778,
              "#fb9f3a"
             ],
             [
              0.8888888888888888,
              "#fdca26"
             ],
             [
              1,
              "#f0f921"
             ]
            ],
            "type": "contour"
           }
          ],
          "contourcarpet": [
           {
            "colorbar": {
             "outlinewidth": 0,
             "ticks": ""
            },
            "type": "contourcarpet"
           }
          ],
          "heatmap": [
           {
            "colorbar": {
             "outlinewidth": 0,
             "ticks": ""
            },
            "colorscale": [
             [
              0,
              "#0d0887"
             ],
             [
              0.1111111111111111,
              "#46039f"
             ],
             [
              0.2222222222222222,
              "#7201a8"
             ],
             [
              0.3333333333333333,
              "#9c179e"
             ],
             [
              0.4444444444444444,
              "#bd3786"
             ],
             [
              0.5555555555555556,
              "#d8576b"
             ],
             [
              0.6666666666666666,
              "#ed7953"
             ],
             [
              0.7777777777777778,
              "#fb9f3a"
             ],
             [
              0.8888888888888888,
              "#fdca26"
             ],
             [
              1,
              "#f0f921"
             ]
            ],
            "type": "heatmap"
           }
          ],
          "heatmapgl": [
           {
            "colorbar": {
             "outlinewidth": 0,
             "ticks": ""
            },
            "colorscale": [
             [
              0,
              "#0d0887"
             ],
             [
              0.1111111111111111,
              "#46039f"
             ],
             [
              0.2222222222222222,
              "#7201a8"
             ],
             [
              0.3333333333333333,
              "#9c179e"
             ],
             [
              0.4444444444444444,
              "#bd3786"
             ],
             [
              0.5555555555555556,
              "#d8576b"
             ],
             [
              0.6666666666666666,
              "#ed7953"
             ],
             [
              0.7777777777777778,
              "#fb9f3a"
             ],
             [
              0.8888888888888888,
              "#fdca26"
             ],
             [
              1,
              "#f0f921"
             ]
            ],
            "type": "heatmapgl"
           }
          ],
          "histogram": [
           {
            "marker": {
             "colorbar": {
              "outlinewidth": 0,
              "ticks": ""
             }
            },
            "type": "histogram"
           }
          ],
          "histogram2d": [
           {
            "colorbar": {
             "outlinewidth": 0,
             "ticks": ""
            },
            "colorscale": [
             [
              0,
              "#0d0887"
             ],
             [
              0.1111111111111111,
              "#46039f"
             ],
             [
              0.2222222222222222,
              "#7201a8"
             ],
             [
              0.3333333333333333,
              "#9c179e"
             ],
             [
              0.4444444444444444,
              "#bd3786"
             ],
             [
              0.5555555555555556,
              "#d8576b"
             ],
             [
              0.6666666666666666,
              "#ed7953"
             ],
             [
              0.7777777777777778,
              "#fb9f3a"
             ],
             [
              0.8888888888888888,
              "#fdca26"
             ],
             [
              1,
              "#f0f921"
             ]
            ],
            "type": "histogram2d"
           }
          ],
          "histogram2dcontour": [
           {
            "colorbar": {
             "outlinewidth": 0,
             "ticks": ""
            },
            "colorscale": [
             [
              0,
              "#0d0887"
             ],
             [
              0.1111111111111111,
              "#46039f"
             ],
             [
              0.2222222222222222,
              "#7201a8"
             ],
             [
              0.3333333333333333,
              "#9c179e"
             ],
             [
              0.4444444444444444,
              "#bd3786"
             ],
             [
              0.5555555555555556,
              "#d8576b"
             ],
             [
              0.6666666666666666,
              "#ed7953"
             ],
             [
              0.7777777777777778,
              "#fb9f3a"
             ],
             [
              0.8888888888888888,
              "#fdca26"
             ],
             [
              1,
              "#f0f921"
             ]
            ],
            "type": "histogram2dcontour"
           }
          ],
          "mesh3d": [
           {
            "colorbar": {
             "outlinewidth": 0,
             "ticks": ""
            },
            "type": "mesh3d"
           }
          ],
          "parcoords": [
           {
            "line": {
             "colorbar": {
              "outlinewidth": 0,
              "ticks": ""
             }
            },
            "type": "parcoords"
           }
          ],
          "pie": [
           {
            "automargin": true,
            "type": "pie"
           }
          ],
          "scatter": [
           {
            "marker": {
             "colorbar": {
              "outlinewidth": 0,
              "ticks": ""
             }
            },
            "type": "scatter"
           }
          ],
          "scatter3d": [
           {
            "line": {
             "colorbar": {
              "outlinewidth": 0,
              "ticks": ""
             }
            },
            "marker": {
             "colorbar": {
              "outlinewidth": 0,
              "ticks": ""
             }
            },
            "type": "scatter3d"
           }
          ],
          "scattercarpet": [
           {
            "marker": {
             "colorbar": {
              "outlinewidth": 0,
              "ticks": ""
             }
            },
            "type": "scattercarpet"
           }
          ],
          "scattergeo": [
           {
            "marker": {
             "colorbar": {
              "outlinewidth": 0,
              "ticks": ""
             }
            },
            "type": "scattergeo"
           }
          ],
          "scattergl": [
           {
            "marker": {
             "colorbar": {
              "outlinewidth": 0,
              "ticks": ""
             }
            },
            "type": "scattergl"
           }
          ],
          "scattermapbox": [
           {
            "marker": {
             "colorbar": {
              "outlinewidth": 0,
              "ticks": ""
             }
            },
            "type": "scattermapbox"
           }
          ],
          "scatterpolar": [
           {
            "marker": {
             "colorbar": {
              "outlinewidth": 0,
              "ticks": ""
             }
            },
            "type": "scatterpolar"
           }
          ],
          "scatterpolargl": [
           {
            "marker": {
             "colorbar": {
              "outlinewidth": 0,
              "ticks": ""
             }
            },
            "type": "scatterpolargl"
           }
          ],
          "scatterternary": [
           {
            "marker": {
             "colorbar": {
              "outlinewidth": 0,
              "ticks": ""
             }
            },
            "type": "scatterternary"
           }
          ],
          "surface": [
           {
            "colorbar": {
             "outlinewidth": 0,
             "ticks": ""
            },
            "colorscale": [
             [
              0,
              "#0d0887"
             ],
             [
              0.1111111111111111,
              "#46039f"
             ],
             [
              0.2222222222222222,
              "#7201a8"
             ],
             [
              0.3333333333333333,
              "#9c179e"
             ],
             [
              0.4444444444444444,
              "#bd3786"
             ],
             [
              0.5555555555555556,
              "#d8576b"
             ],
             [
              0.6666666666666666,
              "#ed7953"
             ],
             [
              0.7777777777777778,
              "#fb9f3a"
             ],
             [
              0.8888888888888888,
              "#fdca26"
             ],
             [
              1,
              "#f0f921"
             ]
            ],
            "type": "surface"
           }
          ],
          "table": [
           {
            "cells": {
             "fill": {
              "color": "#EBF0F8"
             },
             "line": {
              "color": "white"
             }
            },
            "header": {
             "fill": {
              "color": "#C8D4E3"
             },
             "line": {
              "color": "white"
             }
            },
            "type": "table"
           }
          ]
         },
         "layout": {
          "annotationdefaults": {
           "arrowcolor": "#2a3f5f",
           "arrowhead": 0,
           "arrowwidth": 1
          },
          "coloraxis": {
           "colorbar": {
            "outlinewidth": 0,
            "ticks": ""
           }
          },
          "colorscale": {
           "diverging": [
            [
             0,
             "#8e0152"
            ],
            [
             0.1,
             "#c51b7d"
            ],
            [
             0.2,
             "#de77ae"
            ],
            [
             0.3,
             "#f1b6da"
            ],
            [
             0.4,
             "#fde0ef"
            ],
            [
             0.5,
             "#f7f7f7"
            ],
            [
             0.6,
             "#e6f5d0"
            ],
            [
             0.7,
             "#b8e186"
            ],
            [
             0.8,
             "#7fbc41"
            ],
            [
             0.9,
             "#4d9221"
            ],
            [
             1,
             "#276419"
            ]
           ],
           "sequential": [
            [
             0,
             "#0d0887"
            ],
            [
             0.1111111111111111,
             "#46039f"
            ],
            [
             0.2222222222222222,
             "#7201a8"
            ],
            [
             0.3333333333333333,
             "#9c179e"
            ],
            [
             0.4444444444444444,
             "#bd3786"
            ],
            [
             0.5555555555555556,
             "#d8576b"
            ],
            [
             0.6666666666666666,
             "#ed7953"
            ],
            [
             0.7777777777777778,
             "#fb9f3a"
            ],
            [
             0.8888888888888888,
             "#fdca26"
            ],
            [
             1,
             "#f0f921"
            ]
           ],
           "sequentialminus": [
            [
             0,
             "#0d0887"
            ],
            [
             0.1111111111111111,
             "#46039f"
            ],
            [
             0.2222222222222222,
             "#7201a8"
            ],
            [
             0.3333333333333333,
             "#9c179e"
            ],
            [
             0.4444444444444444,
             "#bd3786"
            ],
            [
             0.5555555555555556,
             "#d8576b"
            ],
            [
             0.6666666666666666,
             "#ed7953"
            ],
            [
             0.7777777777777778,
             "#fb9f3a"
            ],
            [
             0.8888888888888888,
             "#fdca26"
            ],
            [
             1,
             "#f0f921"
            ]
           ]
          },
          "colorway": [
           "#636efa",
           "#EF553B",
           "#00cc96",
           "#ab63fa",
           "#FFA15A",
           "#19d3f3",
           "#FF6692",
           "#B6E880",
           "#FF97FF",
           "#FECB52"
          ],
          "font": {
           "color": "#2a3f5f"
          },
          "geo": {
           "bgcolor": "white",
           "lakecolor": "white",
           "landcolor": "#E5ECF6",
           "showlakes": true,
           "showland": true,
           "subunitcolor": "white"
          },
          "hoverlabel": {
           "align": "left"
          },
          "hovermode": "closest",
          "mapbox": {
           "style": "light"
          },
          "paper_bgcolor": "white",
          "plot_bgcolor": "#E5ECF6",
          "polar": {
           "angularaxis": {
            "gridcolor": "white",
            "linecolor": "white",
            "ticks": ""
           },
           "bgcolor": "#E5ECF6",
           "radialaxis": {
            "gridcolor": "white",
            "linecolor": "white",
            "ticks": ""
           }
          },
          "scene": {
           "xaxis": {
            "backgroundcolor": "#E5ECF6",
            "gridcolor": "white",
            "gridwidth": 2,
            "linecolor": "white",
            "showbackground": true,
            "ticks": "",
            "zerolinecolor": "white"
           },
           "yaxis": {
            "backgroundcolor": "#E5ECF6",
            "gridcolor": "white",
            "gridwidth": 2,
            "linecolor": "white",
            "showbackground": true,
            "ticks": "",
            "zerolinecolor": "white"
           },
           "zaxis": {
            "backgroundcolor": "#E5ECF6",
            "gridcolor": "white",
            "gridwidth": 2,
            "linecolor": "white",
            "showbackground": true,
            "ticks": "",
            "zerolinecolor": "white"
           }
          },
          "shapedefaults": {
           "line": {
            "color": "#2a3f5f"
           }
          },
          "ternary": {
           "aaxis": {
            "gridcolor": "white",
            "linecolor": "white",
            "ticks": ""
           },
           "baxis": {
            "gridcolor": "white",
            "linecolor": "white",
            "ticks": ""
           },
           "bgcolor": "#E5ECF6",
           "caxis": {
            "gridcolor": "white",
            "linecolor": "white",
            "ticks": ""
           }
          },
          "title": {
           "x": 0.05
          },
          "xaxis": {
           "automargin": true,
           "gridcolor": "white",
           "linecolor": "white",
           "ticks": "",
           "title": {
            "standoff": 15
           },
           "zerolinecolor": "white",
           "zerolinewidth": 2
          },
          "yaxis": {
           "automargin": true,
           "gridcolor": "white",
           "linecolor": "white",
           "ticks": "",
           "title": {
            "standoff": 15
           },
           "zerolinecolor": "white",
           "zerolinewidth": 2
          }
         }
        }
       }
      },
      "text/html": [
       "<div>\n",
       "        \n",
       "        \n",
       "            <div id=\"52a3bb82-b0d5-4a40-aae4-3425e35ff4a4\" class=\"plotly-graph-div\" style=\"height:525px; width:100%;\"></div>\n",
       "            <script type=\"text/javascript\">\n",
       "                require([\"plotly\"], function(Plotly) {\n",
       "                    window.PLOTLYENV=window.PLOTLYENV || {};\n",
       "                    \n",
       "                if (document.getElementById(\"52a3bb82-b0d5-4a40-aae4-3425e35ff4a4\")) {\n",
       "                    Plotly.newPlot(\n",
       "                        '52a3bb82-b0d5-4a40-aae4-3425e35ff4a4',\n",
       "                        [{\"hole\": 0.5, \"labels\": [\"DOI Citation Not Created\", \"DOI Citation Pending\", \"DOI Citation Completed\"], \"type\": \"pie\", \"values\": [143292, 20, 3]}],\n",
       "                        {\"annotations\": [{\"font\": {\"size\": 20}, \"showarrow\": false, \"text\": \"DOI Citation\"}], \"template\": {\"data\": {\"bar\": [{\"error_x\": {\"color\": \"#2a3f5f\"}, \"error_y\": {\"color\": \"#2a3f5f\"}, \"marker\": {\"line\": {\"color\": \"#E5ECF6\", \"width\": 0.5}}, \"type\": \"bar\"}], \"barpolar\": [{\"marker\": {\"line\": {\"color\": \"#E5ECF6\", \"width\": 0.5}}, \"type\": \"barpolar\"}], \"carpet\": [{\"aaxis\": {\"endlinecolor\": \"#2a3f5f\", \"gridcolor\": \"white\", \"linecolor\": \"white\", \"minorgridcolor\": \"white\", \"startlinecolor\": \"#2a3f5f\"}, \"baxis\": {\"endlinecolor\": \"#2a3f5f\", \"gridcolor\": \"white\", \"linecolor\": \"white\", \"minorgridcolor\": \"white\", \"startlinecolor\": \"#2a3f5f\"}, \"type\": \"carpet\"}], \"choropleth\": [{\"colorbar\": {\"outlinewidth\": 0, \"ticks\": \"\"}, \"type\": \"choropleth\"}], \"contour\": [{\"colorbar\": {\"outlinewidth\": 0, \"ticks\": \"\"}, \"colorscale\": [[0.0, \"#0d0887\"], [0.1111111111111111, \"#46039f\"], [0.2222222222222222, \"#7201a8\"], [0.3333333333333333, \"#9c179e\"], [0.4444444444444444, \"#bd3786\"], [0.5555555555555556, \"#d8576b\"], [0.6666666666666666, \"#ed7953\"], [0.7777777777777778, \"#fb9f3a\"], [0.8888888888888888, \"#fdca26\"], [1.0, \"#f0f921\"]], \"type\": \"contour\"}], \"contourcarpet\": [{\"colorbar\": {\"outlinewidth\": 0, \"ticks\": \"\"}, \"type\": \"contourcarpet\"}], \"heatmap\": [{\"colorbar\": {\"outlinewidth\": 0, \"ticks\": \"\"}, \"colorscale\": [[0.0, \"#0d0887\"], [0.1111111111111111, \"#46039f\"], [0.2222222222222222, \"#7201a8\"], [0.3333333333333333, \"#9c179e\"], [0.4444444444444444, \"#bd3786\"], [0.5555555555555556, \"#d8576b\"], [0.6666666666666666, \"#ed7953\"], [0.7777777777777778, \"#fb9f3a\"], [0.8888888888888888, \"#fdca26\"], [1.0, \"#f0f921\"]], \"type\": \"heatmap\"}], \"heatmapgl\": [{\"colorbar\": {\"outlinewidth\": 0, \"ticks\": \"\"}, \"colorscale\": [[0.0, \"#0d0887\"], [0.1111111111111111, \"#46039f\"], [0.2222222222222222, \"#7201a8\"], [0.3333333333333333, \"#9c179e\"], [0.4444444444444444, \"#bd3786\"], [0.5555555555555556, \"#d8576b\"], [0.6666666666666666, \"#ed7953\"], [0.7777777777777778, \"#fb9f3a\"], [0.8888888888888888, \"#fdca26\"], [1.0, \"#f0f921\"]], \"type\": \"heatmapgl\"}], \"histogram\": [{\"marker\": {\"colorbar\": {\"outlinewidth\": 0, \"ticks\": \"\"}}, \"type\": \"histogram\"}], \"histogram2d\": [{\"colorbar\": {\"outlinewidth\": 0, \"ticks\": \"\"}, \"colorscale\": [[0.0, \"#0d0887\"], [0.1111111111111111, \"#46039f\"], [0.2222222222222222, \"#7201a8\"], [0.3333333333333333, \"#9c179e\"], [0.4444444444444444, \"#bd3786\"], [0.5555555555555556, \"#d8576b\"], [0.6666666666666666, \"#ed7953\"], [0.7777777777777778, \"#fb9f3a\"], [0.8888888888888888, \"#fdca26\"], [1.0, \"#f0f921\"]], \"type\": \"histogram2d\"}], \"histogram2dcontour\": [{\"colorbar\": {\"outlinewidth\": 0, \"ticks\": \"\"}, \"colorscale\": [[0.0, \"#0d0887\"], [0.1111111111111111, \"#46039f\"], [0.2222222222222222, \"#7201a8\"], [0.3333333333333333, \"#9c179e\"], [0.4444444444444444, \"#bd3786\"], [0.5555555555555556, \"#d8576b\"], [0.6666666666666666, \"#ed7953\"], [0.7777777777777778, \"#fb9f3a\"], [0.8888888888888888, \"#fdca26\"], [1.0, \"#f0f921\"]], \"type\": \"histogram2dcontour\"}], \"mesh3d\": [{\"colorbar\": {\"outlinewidth\": 0, \"ticks\": \"\"}, \"type\": \"mesh3d\"}], \"parcoords\": [{\"line\": {\"colorbar\": {\"outlinewidth\": 0, \"ticks\": \"\"}}, \"type\": \"parcoords\"}], \"pie\": [{\"automargin\": true, \"type\": \"pie\"}], \"scatter\": [{\"marker\": {\"colorbar\": {\"outlinewidth\": 0, \"ticks\": \"\"}}, \"type\": \"scatter\"}], \"scatter3d\": [{\"line\": {\"colorbar\": {\"outlinewidth\": 0, \"ticks\": \"\"}}, \"marker\": {\"colorbar\": {\"outlinewidth\": 0, \"ticks\": \"\"}}, \"type\": \"scatter3d\"}], \"scattercarpet\": [{\"marker\": {\"colorbar\": {\"outlinewidth\": 0, \"ticks\": \"\"}}, \"type\": \"scattercarpet\"}], \"scattergeo\": [{\"marker\": {\"colorbar\": {\"outlinewidth\": 0, \"ticks\": \"\"}}, \"type\": \"scattergeo\"}], \"scattergl\": [{\"marker\": {\"colorbar\": {\"outlinewidth\": 0, \"ticks\": \"\"}}, \"type\": \"scattergl\"}], \"scattermapbox\": [{\"marker\": {\"colorbar\": {\"outlinewidth\": 0, \"ticks\": \"\"}}, \"type\": \"scattermapbox\"}], \"scatterpolar\": [{\"marker\": {\"colorbar\": {\"outlinewidth\": 0, \"ticks\": \"\"}}, \"type\": \"scatterpolar\"}], \"scatterpolargl\": [{\"marker\": {\"colorbar\": {\"outlinewidth\": 0, \"ticks\": \"\"}}, \"type\": \"scatterpolargl\"}], \"scatterternary\": [{\"marker\": {\"colorbar\": {\"outlinewidth\": 0, \"ticks\": \"\"}}, \"type\": \"scatterternary\"}], \"surface\": [{\"colorbar\": {\"outlinewidth\": 0, \"ticks\": \"\"}, \"colorscale\": [[0.0, \"#0d0887\"], [0.1111111111111111, \"#46039f\"], [0.2222222222222222, \"#7201a8\"], [0.3333333333333333, \"#9c179e\"], [0.4444444444444444, \"#bd3786\"], [0.5555555555555556, \"#d8576b\"], [0.6666666666666666, \"#ed7953\"], [0.7777777777777778, \"#fb9f3a\"], [0.8888888888888888, \"#fdca26\"], [1.0, \"#f0f921\"]], \"type\": \"surface\"}], \"table\": [{\"cells\": {\"fill\": {\"color\": \"#EBF0F8\"}, \"line\": {\"color\": \"white\"}}, \"header\": {\"fill\": {\"color\": \"#C8D4E3\"}, \"line\": {\"color\": \"white\"}}, \"type\": \"table\"}]}, \"layout\": {\"annotationdefaults\": {\"arrowcolor\": \"#2a3f5f\", \"arrowhead\": 0, \"arrowwidth\": 1}, \"coloraxis\": {\"colorbar\": {\"outlinewidth\": 0, \"ticks\": \"\"}}, \"colorscale\": {\"diverging\": [[0, \"#8e0152\"], [0.1, \"#c51b7d\"], [0.2, \"#de77ae\"], [0.3, \"#f1b6da\"], [0.4, \"#fde0ef\"], [0.5, \"#f7f7f7\"], [0.6, \"#e6f5d0\"], [0.7, \"#b8e186\"], [0.8, \"#7fbc41\"], [0.9, \"#4d9221\"], [1, \"#276419\"]], \"sequential\": [[0.0, \"#0d0887\"], [0.1111111111111111, \"#46039f\"], [0.2222222222222222, \"#7201a8\"], [0.3333333333333333, \"#9c179e\"], [0.4444444444444444, \"#bd3786\"], [0.5555555555555556, \"#d8576b\"], [0.6666666666666666, \"#ed7953\"], [0.7777777777777778, \"#fb9f3a\"], [0.8888888888888888, \"#fdca26\"], [1.0, \"#f0f921\"]], \"sequentialminus\": [[0.0, \"#0d0887\"], [0.1111111111111111, \"#46039f\"], [0.2222222222222222, \"#7201a8\"], [0.3333333333333333, \"#9c179e\"], [0.4444444444444444, \"#bd3786\"], [0.5555555555555556, \"#d8576b\"], [0.6666666666666666, \"#ed7953\"], [0.7777777777777778, \"#fb9f3a\"], [0.8888888888888888, \"#fdca26\"], [1.0, \"#f0f921\"]]}, \"colorway\": [\"#636efa\", \"#EF553B\", \"#00cc96\", \"#ab63fa\", \"#FFA15A\", \"#19d3f3\", \"#FF6692\", \"#B6E880\", \"#FF97FF\", \"#FECB52\"], \"font\": {\"color\": \"#2a3f5f\"}, \"geo\": {\"bgcolor\": \"white\", \"lakecolor\": \"white\", \"landcolor\": \"#E5ECF6\", \"showlakes\": true, \"showland\": true, \"subunitcolor\": \"white\"}, \"hoverlabel\": {\"align\": \"left\"}, \"hovermode\": \"closest\", \"mapbox\": {\"style\": \"light\"}, \"paper_bgcolor\": \"white\", \"plot_bgcolor\": \"#E5ECF6\", \"polar\": {\"angularaxis\": {\"gridcolor\": \"white\", \"linecolor\": \"white\", \"ticks\": \"\"}, \"bgcolor\": \"#E5ECF6\", \"radialaxis\": {\"gridcolor\": \"white\", \"linecolor\": \"white\", \"ticks\": \"\"}}, \"scene\": {\"xaxis\": {\"backgroundcolor\": \"#E5ECF6\", \"gridcolor\": \"white\", \"gridwidth\": 2, \"linecolor\": \"white\", \"showbackground\": true, \"ticks\": \"\", \"zerolinecolor\": \"white\"}, \"yaxis\": {\"backgroundcolor\": \"#E5ECF6\", \"gridcolor\": \"white\", \"gridwidth\": 2, \"linecolor\": \"white\", \"showbackground\": true, \"ticks\": \"\", \"zerolinecolor\": \"white\"}, \"zaxis\": {\"backgroundcolor\": \"#E5ECF6\", \"gridcolor\": \"white\", \"gridwidth\": 2, \"linecolor\": \"white\", \"showbackground\": true, \"ticks\": \"\", \"zerolinecolor\": \"white\"}}, \"shapedefaults\": {\"line\": {\"color\": \"#2a3f5f\"}}, \"ternary\": {\"aaxis\": {\"gridcolor\": \"white\", \"linecolor\": \"white\", \"ticks\": \"\"}, \"baxis\": {\"gridcolor\": \"white\", \"linecolor\": \"white\", \"ticks\": \"\"}, \"bgcolor\": \"#E5ECF6\", \"caxis\": {\"gridcolor\": \"white\", \"linecolor\": \"white\", \"ticks\": \"\"}}, \"title\": {\"x\": 0.05}, \"xaxis\": {\"automargin\": true, \"gridcolor\": \"white\", \"linecolor\": \"white\", \"ticks\": \"\", \"title\": {\"standoff\": 15}, \"zerolinecolor\": \"white\", \"zerolinewidth\": 2}, \"yaxis\": {\"automargin\": true, \"gridcolor\": \"white\", \"linecolor\": \"white\", \"ticks\": \"\", \"title\": {\"standoff\": 15}, \"zerolinecolor\": \"white\", \"zerolinewidth\": 2}}}},\n",
       "                        {\"responsive\": true}\n",
       "                    ).then(function(){\n",
       "                            \n",
       "var gd = document.getElementById('52a3bb82-b0d5-4a40-aae4-3425e35ff4a4');\n",
       "var x = new MutationObserver(function (mutations, observer) {{\n",
       "        var display = window.getComputedStyle(gd).display;\n",
       "        if (!display || display === 'none') {{\n",
       "            console.log([gd, 'removed!']);\n",
       "            Plotly.purge(gd);\n",
       "            observer.disconnect();\n",
       "        }}\n",
       "}});\n",
       "\n",
       "// Listen for the removal of the full notebook cells\n",
       "var notebookContainer = gd.closest('#notebook-container');\n",
       "if (notebookContainer) {{\n",
       "    x.observe(notebookContainer, {childList: true});\n",
       "}}\n",
       "\n",
       "// Listen for the clearing of the current output cell\n",
       "var outputEl = gd.closest('.output');\n",
       "if (outputEl) {{\n",
       "    x.observe(outputEl, {childList: true});\n",
       "}}\n",
       "\n",
       "                        })\n",
       "                };\n",
       "                });\n",
       "            </script>\n",
       "        </div>"
      ]
     },
     "metadata": {},
     "output_type": "display_data"
    }
   ],
   "source": [
    "fig = make_doi_citation_created()\n",
    "fig.show()"
   ]
  },
  {
   "cell_type": "code",
   "execution_count": 10,
   "metadata": {},
   "outputs": [
    {
     "data": {
      "text/html": [
       "<div>\n",
       "<style scoped>\n",
       "    .dataframe tbody tr th:only-of-type {\n",
       "        vertical-align: middle;\n",
       "    }\n",
       "\n",
       "    .dataframe tbody tr th {\n",
       "        vertical-align: top;\n",
       "    }\n",
       "\n",
       "    .dataframe thead th {\n",
       "        text-align: right;\n",
       "    }\n",
       "</style>\n",
       "<table border=\"1\" class=\"dataframe\">\n",
       "  <thead>\n",
       "    <tr style=\"text-align: right;\">\n",
       "      <th></th>\n",
       "      <th>_id</th>\n",
       "      <th>material_id</th>\n",
       "      <th>doi</th>\n",
       "      <th>bibtex</th>\n",
       "      <th>status</th>\n",
       "      <th>valid</th>\n",
       "      <th>last_updated</th>\n",
       "    </tr>\n",
       "  </thead>\n",
       "  <tbody>\n",
       "    <tr>\n",
       "      <th>0</th>\n",
       "      <td>5ec98ba3f3951ad25c7063d7</td>\n",
       "      <td>mp-1173151</td>\n",
       "      <td>10.17188/1479772</td>\n",
       "      <td>None</td>\n",
       "      <td>PENDING</td>\n",
       "      <td>True</td>\n",
       "      <td>2020-05-23 13:46:22.356</td>\n",
       "    </tr>\n",
       "    <tr>\n",
       "      <th>1</th>\n",
       "      <td>5ec9eb7bf3951ad25c706609</td>\n",
       "      <td>mp-1194956</td>\n",
       "      <td>10.17188/1479783</td>\n",
       "      <td>None</td>\n",
       "      <td>PENDING</td>\n",
       "      <td>True</td>\n",
       "      <td>2020-05-23 20:35:17.398</td>\n",
       "    </tr>\n",
       "    <tr>\n",
       "      <th>2</th>\n",
       "      <td>5ec9ebacf3951ad25c706619</td>\n",
       "      <td>mp-1204405</td>\n",
       "      <td>10.17188/1479784</td>\n",
       "      <td>None</td>\n",
       "      <td>PENDING</td>\n",
       "      <td>True</td>\n",
       "      <td>2020-05-23 20:36:05.280</td>\n",
       "    </tr>\n",
       "    <tr>\n",
       "      <th>3</th>\n",
       "      <td>5ec9ebc4f3951ad25c706625</td>\n",
       "      <td>mp-556728</td>\n",
       "      <td>10.17188/1479785</td>\n",
       "      <td>None</td>\n",
       "      <td>PENDING</td>\n",
       "      <td>True</td>\n",
       "      <td>2020-05-23 20:36:28.676</td>\n",
       "    </tr>\n",
       "    <tr>\n",
       "      <th>4</th>\n",
       "      <td>5ec9eddcf3951ad25c7066cd</td>\n",
       "      <td>mp-542374</td>\n",
       "      <td>10.17188/1479786</td>\n",
       "      <td>None</td>\n",
       "      <td>PENDING</td>\n",
       "      <td>True</td>\n",
       "      <td>2020-05-23 20:46:15.203</td>\n",
       "    </tr>\n",
       "    <tr>\n",
       "      <th>5</th>\n",
       "      <td>5ec9eddcf3951ad25c7066ce</td>\n",
       "      <td>mp-1247854</td>\n",
       "      <td>10.17188/1479787</td>\n",
       "      <td>None</td>\n",
       "      <td>PENDING</td>\n",
       "      <td>True</td>\n",
       "      <td>2020-05-23 20:46:15.203</td>\n",
       "    </tr>\n",
       "    <tr>\n",
       "      <th>6</th>\n",
       "      <td>5ec9eddcf3951ad25c7066cf</td>\n",
       "      <td>mp-1212517</td>\n",
       "      <td>10.17188/1479788</td>\n",
       "      <td>None</td>\n",
       "      <td>PENDING</td>\n",
       "      <td>True</td>\n",
       "      <td>2020-05-23 20:46:15.203</td>\n",
       "    </tr>\n",
       "    <tr>\n",
       "      <th>7</th>\n",
       "      <td>5ec9eddcf3951ad25c7066d0</td>\n",
       "      <td>mp-10231</td>\n",
       "      <td>10.5072/1322654</td>\n",
       "      <td>None</td>\n",
       "      <td>COMPLETED</td>\n",
       "      <td>True</td>\n",
       "      <td>2020-05-23 20:46:15.203</td>\n",
       "    </tr>\n",
       "    <tr>\n",
       "      <th>8</th>\n",
       "      <td>5ec9eddcf3951ad25c7066d1</td>\n",
       "      <td>mp-759337</td>\n",
       "      <td>10.17188/1479789</td>\n",
       "      <td>None</td>\n",
       "      <td>PENDING</td>\n",
       "      <td>True</td>\n",
       "      <td>2020-05-23 20:46:15.203</td>\n",
       "    </tr>\n",
       "    <tr>\n",
       "      <th>9</th>\n",
       "      <td>5ec9eddcf3951ad25c7066d2</td>\n",
       "      <td>mp-15472</td>\n",
       "      <td>10.5072/1322184</td>\n",
       "      <td>None</td>\n",
       "      <td>COMPLETED</td>\n",
       "      <td>True</td>\n",
       "      <td>2020-05-23 20:46:15.203</td>\n",
       "    </tr>\n",
       "    <tr>\n",
       "      <th>10</th>\n",
       "      <td>5ec9eddcf3951ad25c7066d3</td>\n",
       "      <td>mp-1093562</td>\n",
       "      <td>10.17188/1479790</td>\n",
       "      <td>None</td>\n",
       "      <td>PENDING</td>\n",
       "      <td>True</td>\n",
       "      <td>2020-05-23 20:46:15.203</td>\n",
       "    </tr>\n",
       "    <tr>\n",
       "      <th>11</th>\n",
       "      <td>5ec9eddcf3951ad25c7066d4</td>\n",
       "      <td>mp-645425</td>\n",
       "      <td>10.17188/1479792</td>\n",
       "      <td>None</td>\n",
       "      <td>PENDING</td>\n",
       "      <td>True</td>\n",
       "      <td>2020-05-23 20:46:15.203</td>\n",
       "    </tr>\n",
       "    <tr>\n",
       "      <th>12</th>\n",
       "      <td>5ec9eddcf3951ad25c7066d5</td>\n",
       "      <td>mp-753394</td>\n",
       "      <td>10.17188/1479793</td>\n",
       "      <td>None</td>\n",
       "      <td>PENDING</td>\n",
       "      <td>True</td>\n",
       "      <td>2020-05-23 20:46:15.203</td>\n",
       "    </tr>\n",
       "    <tr>\n",
       "      <th>13</th>\n",
       "      <td>5ec9ee50f3951ad25c706701</td>\n",
       "      <td>mp-1203165</td>\n",
       "      <td>10.17188/1479801</td>\n",
       "      <td>None</td>\n",
       "      <td>PENDING</td>\n",
       "      <td>True</td>\n",
       "      <td>2020-05-23 20:47:21.382</td>\n",
       "    </tr>\n",
       "    <tr>\n",
       "      <th>14</th>\n",
       "      <td>5ec9ee50f3951ad25c706702</td>\n",
       "      <td>mp-979270</td>\n",
       "      <td>10.17188/1479802</td>\n",
       "      <td>None</td>\n",
       "      <td>PENDING</td>\n",
       "      <td>True</td>\n",
       "      <td>2020-05-23 20:47:21.382</td>\n",
       "    </tr>\n",
       "    <tr>\n",
       "      <th>15</th>\n",
       "      <td>5ec9ef87f3951ad25c706723</td>\n",
       "      <td>mp-1197073</td>\n",
       "      <td>10.17188/1479803</td>\n",
       "      <td>None</td>\n",
       "      <td>PENDING</td>\n",
       "      <td>True</td>\n",
       "      <td>2020-05-23 20:52:33.087</td>\n",
       "    </tr>\n",
       "    <tr>\n",
       "      <th>16</th>\n",
       "      <td>5ec9ef94f3951ad25c70672c</td>\n",
       "      <td>mp-1147638</td>\n",
       "      <td>10.17188/1479804</td>\n",
       "      <td>None</td>\n",
       "      <td>PENDING</td>\n",
       "      <td>True</td>\n",
       "      <td>2020-05-23 20:52:45.477</td>\n",
       "    </tr>\n",
       "    <tr>\n",
       "      <th>17</th>\n",
       "      <td>5ec9ef94f3951ad25c70672d</td>\n",
       "      <td>mp-1176596</td>\n",
       "      <td>10.17188/1479805</td>\n",
       "      <td>None</td>\n",
       "      <td>PENDING</td>\n",
       "      <td>True</td>\n",
       "      <td>2020-05-23 20:52:45.477</td>\n",
       "    </tr>\n",
       "    <tr>\n",
       "      <th>18</th>\n",
       "      <td>5ecd8500f3951ad25c706aaf</td>\n",
       "      <td>mp-30656</td>\n",
       "      <td>10.17188/1479826</td>\n",
       "      <td>None</td>\n",
       "      <td>PENDING</td>\n",
       "      <td>True</td>\n",
       "      <td>2020-05-26 14:07:00.813</td>\n",
       "    </tr>\n",
       "    <tr>\n",
       "      <th>19</th>\n",
       "      <td>5ecd9ccff3951ad25c706cad</td>\n",
       "      <td>mp-1237770</td>\n",
       "      <td>10.17188/1479827</td>\n",
       "      <td>None</td>\n",
       "      <td>PENDING</td>\n",
       "      <td>True</td>\n",
       "      <td>2020-05-27 13:13:31.149</td>\n",
       "    </tr>\n",
       "    <tr>\n",
       "      <th>20</th>\n",
       "      <td>5ececbd7f3951ad25c707065</td>\n",
       "      <td>mp-10000</td>\n",
       "      <td>10.5072/1322004</td>\n",
       "      <td>@article{osti_1322004,\\n  title        = {Mate...</td>\n",
       "      <td>COMPLETED</td>\n",
       "      <td>True</td>\n",
       "      <td>2020-05-27 13:40:43.192</td>\n",
       "    </tr>\n",
       "    <tr>\n",
       "      <th>21</th>\n",
       "      <td>5ed3f049f3951ad25c707a5e</td>\n",
       "      <td>mp-1199448</td>\n",
       "      <td>10.17188/1479847</td>\n",
       "      <td>None</td>\n",
       "      <td>PENDING</td>\n",
       "      <td>True</td>\n",
       "      <td>2020-05-31 10:58:25.282</td>\n",
       "    </tr>\n",
       "    <tr>\n",
       "      <th>22</th>\n",
       "      <td>5ed3fb45f3951ad25c707c52</td>\n",
       "      <td>mp-19406</td>\n",
       "      <td>10.17188/1479858</td>\n",
       "      <td>None</td>\n",
       "      <td>PENDING</td>\n",
       "      <td>True</td>\n",
       "      <td>2020-05-31 11:45:17.068</td>\n",
       "    </tr>\n",
       "  </tbody>\n",
       "</table>\n",
       "</div>"
      ],
      "text/plain": [
       "                         _id material_id               doi  \\\n",
       "0   5ec98ba3f3951ad25c7063d7  mp-1173151  10.17188/1479772   \n",
       "1   5ec9eb7bf3951ad25c706609  mp-1194956  10.17188/1479783   \n",
       "2   5ec9ebacf3951ad25c706619  mp-1204405  10.17188/1479784   \n",
       "3   5ec9ebc4f3951ad25c706625   mp-556728  10.17188/1479785   \n",
       "4   5ec9eddcf3951ad25c7066cd   mp-542374  10.17188/1479786   \n",
       "5   5ec9eddcf3951ad25c7066ce  mp-1247854  10.17188/1479787   \n",
       "6   5ec9eddcf3951ad25c7066cf  mp-1212517  10.17188/1479788   \n",
       "7   5ec9eddcf3951ad25c7066d0    mp-10231   10.5072/1322654   \n",
       "8   5ec9eddcf3951ad25c7066d1   mp-759337  10.17188/1479789   \n",
       "9   5ec9eddcf3951ad25c7066d2    mp-15472   10.5072/1322184   \n",
       "10  5ec9eddcf3951ad25c7066d3  mp-1093562  10.17188/1479790   \n",
       "11  5ec9eddcf3951ad25c7066d4   mp-645425  10.17188/1479792   \n",
       "12  5ec9eddcf3951ad25c7066d5   mp-753394  10.17188/1479793   \n",
       "13  5ec9ee50f3951ad25c706701  mp-1203165  10.17188/1479801   \n",
       "14  5ec9ee50f3951ad25c706702   mp-979270  10.17188/1479802   \n",
       "15  5ec9ef87f3951ad25c706723  mp-1197073  10.17188/1479803   \n",
       "16  5ec9ef94f3951ad25c70672c  mp-1147638  10.17188/1479804   \n",
       "17  5ec9ef94f3951ad25c70672d  mp-1176596  10.17188/1479805   \n",
       "18  5ecd8500f3951ad25c706aaf    mp-30656  10.17188/1479826   \n",
       "19  5ecd9ccff3951ad25c706cad  mp-1237770  10.17188/1479827   \n",
       "20  5ececbd7f3951ad25c707065    mp-10000   10.5072/1322004   \n",
       "21  5ed3f049f3951ad25c707a5e  mp-1199448  10.17188/1479847   \n",
       "22  5ed3fb45f3951ad25c707c52    mp-19406  10.17188/1479858   \n",
       "\n",
       "                                               bibtex     status  valid  \\\n",
       "0                                                None    PENDING   True   \n",
       "1                                                None    PENDING   True   \n",
       "2                                                None    PENDING   True   \n",
       "3                                                None    PENDING   True   \n",
       "4                                                None    PENDING   True   \n",
       "5                                                None    PENDING   True   \n",
       "6                                                None    PENDING   True   \n",
       "7                                                None  COMPLETED   True   \n",
       "8                                                None    PENDING   True   \n",
       "9                                                None  COMPLETED   True   \n",
       "10                                               None    PENDING   True   \n",
       "11                                               None    PENDING   True   \n",
       "12                                               None    PENDING   True   \n",
       "13                                               None    PENDING   True   \n",
       "14                                               None    PENDING   True   \n",
       "15                                               None    PENDING   True   \n",
       "16                                               None    PENDING   True   \n",
       "17                                               None    PENDING   True   \n",
       "18                                               None    PENDING   True   \n",
       "19                                               None    PENDING   True   \n",
       "20  @article{osti_1322004,\\n  title        = {Mate...  COMPLETED   True   \n",
       "21                                               None    PENDING   True   \n",
       "22                                               None    PENDING   True   \n",
       "\n",
       "              last_updated  \n",
       "0  2020-05-23 13:46:22.356  \n",
       "1  2020-05-23 20:35:17.398  \n",
       "2  2020-05-23 20:36:05.280  \n",
       "3  2020-05-23 20:36:28.676  \n",
       "4  2020-05-23 20:46:15.203  \n",
       "5  2020-05-23 20:46:15.203  \n",
       "6  2020-05-23 20:46:15.203  \n",
       "7  2020-05-23 20:46:15.203  \n",
       "8  2020-05-23 20:46:15.203  \n",
       "9  2020-05-23 20:46:15.203  \n",
       "10 2020-05-23 20:46:15.203  \n",
       "11 2020-05-23 20:46:15.203  \n",
       "12 2020-05-23 20:46:15.203  \n",
       "13 2020-05-23 20:47:21.382  \n",
       "14 2020-05-23 20:47:21.382  \n",
       "15 2020-05-23 20:52:33.087  \n",
       "16 2020-05-23 20:52:45.477  \n",
       "17 2020-05-23 20:52:45.477  \n",
       "18 2020-05-26 14:07:00.813  \n",
       "19 2020-05-27 13:13:31.149  \n",
       "20 2020-05-27 13:40:43.192  \n",
       "21 2020-05-31 10:58:25.282  \n",
       "22 2020-05-31 11:45:17.068  "
      ]
     },
     "execution_count": 10,
     "metadata": {},
     "output_type": "execute_result"
    }
   ],
   "source": [
    "cursor = list(oma.doi_store.query())\n",
    "df = pd.DataFrame(list(cursor))\n",
    "df"
   ]
  },
  {
   "cell_type": "code",
   "execution_count": null,
   "metadata": {},
   "outputs": [],
   "source": []
  },
  {
   "cell_type": "code",
   "execution_count": null,
   "metadata": {},
   "outputs": [],
   "source": []
  },
  {
   "cell_type": "code",
   "execution_count": null,
   "metadata": {},
   "outputs": [],
   "source": []
  }
 ],
 "metadata": {
  "kernelspec": {
   "display_name": "Python 3",
   "language": "python",
   "name": "python3"
  },
  "language_info": {
   "codemirror_mode": {
    "name": "ipython",
    "version": 3
   },
   "file_extension": ".py",
   "mimetype": "text/x-python",
   "name": "python",
   "nbconvert_exporter": "python",
   "pygments_lexer": "ipython3",
   "version": "3.7.7"
  }
 },
 "nbformat": 4,
 "nbformat_minor": 4
}

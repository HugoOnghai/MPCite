{
 "cells": [
  {
   "cell_type": "code",
   "execution_count": 1,
   "metadata": {},
   "outputs": [
    {
     "name": "stderr",
     "output_type": "stream",
     "text": [
      "/opt/anaconda3/envs/MPCite/lib/python3.7/site-packages/maggma-0.20.1.dev36+g6fc637b-py3.7.egg/maggma/utils.py:20: TqdmExperimentalWarning: Using `tqdm.autonotebook.tqdm` in notebook mode. Use `tqdm.tqdm` instead to force console mode (e.g. in jupyter console)\n",
      "  from tqdm.autonotebook import tqdm\n"
     ]
    }
   ],
   "source": [
    "from models import *\n",
    "from utility import *\n",
    "import logging\n",
    "import os\n",
    "import yaml\n",
    "from pathlib import Path\n",
    "import plotly\n",
    "from adapter import OstiMongoAdapter\n",
    "import pandas as pd\n",
    "from typing import Union, List, Dict\n",
    "import plotly.express as px\n",
    "import plotly.graph_objects as go"
   ]
  },
  {
   "cell_type": "code",
   "execution_count": 2,
   "metadata": {},
   "outputs": [],
   "source": [
    "# configuration stuff\n",
    "config_file = Path(os.path.abspath('')).parent / \"files\" / \"config.yaml\"\n",
    "config = yaml.load(open(config_file.as_posix(), 'r'), Loader=yaml.SafeLoader)\n",
    "\n",
    "# prepare\n",
    "oma = OstiMongoAdapter.from_config(config)\n",
    "elink = ConnectionModel.parse_obj(config[\"osti\"][\"elink\"])\n",
    "explorer = ConnectionModel.parse_obj(config[\"osti\"][\"explorer\"])\n",
    "osti = OSTIModel(elink=elink, explorer=explorer)\n",
    "oma.materials_store.connect()\n",
    "oma.doi_store.connect()"
   ]
  },
  {
   "cell_type": "code",
   "execution_count": 3,
   "metadata": {},
   "outputs": [],
   "source": [
    "def mongo_to_panda(mongo_store, \n",
    "                   criteria:dict = {}, \n",
    "                   properties:Union[Dict, List, None]=None,\n",
    "                   skip:int=0, limit:int=0, no_id=True):\n",
    "    cursor = list(mongo_store.query(criteria=criteria, properties=properties, skip=skip, limit=limit))\n",
    "    df = pd.DataFrame(list(cursor))\n",
    "    if no_id:\n",
    "        del df['_id']\n",
    "    return df"
   ]
  },
  {
   "cell_type": "code",
   "execution_count": 4,
   "metadata": {},
   "outputs": [],
   "source": [
    "def make_doi_status():\n",
    "    df = mongo_to_panda(oma.doi_store)\n",
    "    labels=df.status.unique()\n",
    "    values = df.status.value_counts()\n",
    "    fig=go.Figure(data=[go.Pie(labels=labels, values=values, hole=.5, name=\"status\")])\n",
    "    fig.update_layout(annotations=[dict(text=\"Status\", font_size=20, showarrow=False)])\n",
    "    return fig\n",
    "def make_doi_valid():\n",
    "    df = mongo_to_panda(oma.doi_store)\n",
    "    labels=df.valid.unique()\n",
    "    values = df.valid.value_counts()\n",
    "    fig=go.Figure(data=[go.Pie(labels=labels, values=values, hole=.5, name=\"valid\")])\n",
    "    fig.update_layout(annotations=[dict(text=\"Valid\", font_size=20, showarrow=False)])\n",
    "    return fig\n",
    "def make_doi_last_updated():\n",
    "    df = mongo_to_panda(oma.doi_store)\n",
    "    df.last_updated = [f\"{t.year}/{t.month}/{t.day}\" for t in df.last_updated] # only get the days\n",
    "    labels=df.last_updated.unique()\n",
    "    values = df.last_updated.value_counts()\n",
    "    fig=go.Figure(data=[go.Pie(labels=labels, values=values, hole=.5, name=\"last_updated\")])\n",
    "    fig.update_layout(annotations=[dict(text=\"Last Updated\", font_size=20, showarrow=False)])\n",
    "    return fig\n",
    "def make_doi_bibtex():\n",
    "    df = mongo_to_panda(oma.doi_store)\n",
    "    bibtex_bool = [\"Does not have Bibtex\" if i == None else \"Has Bibtex\" for i in df.bibtex]\n",
    "    df[\"bibtex_bool\"] = bibtex_bool\n",
    "    labels=df.bibtex_bool.unique()\n",
    "    values = df.bibtex_bool.value_counts()\n",
    "    fig=go.Figure(data=[go.Pie(labels=labels, values=values, hole=.5, name=\"bibtex\")])\n",
    "    fig.update_layout(annotations=[dict(text=\"bibtex\", font_size=20, showarrow=False)])\n",
    "    return fig"
   ]
  },
  {
   "cell_type": "code",
   "execution_count": 5,
   "metadata": {},
   "outputs": [],
   "source": [
    "def make_doi_citation_created():\n",
    "    labels = [\"DOI Citation Not Created\", \"DOI Citation Pending\", \"DOI Citation Completed\"]\n",
    "    pending_len = len([i for i in oma.doi_store.query(criteria={\"status\":\"PENDING\"})])\n",
    "    values = [oma.materials_store.count()-oma.doi_store.count(),\n",
    "              pending_len,\n",
    "              oma.doi_store.count() - pending_len\n",
    "             ]\n",
    "    fig = go.Figure(data=[go.Pie(labels=labels, values=values, hole=.5)])\n",
    "    fig.update_layout(annotations=[dict(text=\"DOI Citation\", font_size=20, showarrow=False)])\n",
    "    return fig"
   ]
  },
  {
   "cell_type": "code",
   "execution_count": 19,
   "metadata": {
    "scrolled": true
   },
   "outputs": [
    {
     "data": {
      "application/vnd.plotly.v1+json": {
       "config": {
        "plotlyServerURL": "https://plot.ly"
       },
       "data": [
        {
         "hole": 0.5,
         "labels": [
          "DOI Citation Not Created",
          "DOI Citation Pending",
          "DOI Citation Completed"
         ],
         "type": "pie",
         "values": [
          143812,
          20,
          3
         ]
        }
       ],
       "layout": {
        "annotations": [
         {
          "font": {
           "size": 20
          },
          "showarrow": false,
          "text": "DOI Citation"
         }
        ],
        "template": {
         "data": {
          "bar": [
           {
            "error_x": {
             "color": "#2a3f5f"
            },
            "error_y": {
             "color": "#2a3f5f"
            },
            "marker": {
             "line": {
              "color": "#E5ECF6",
              "width": 0.5
             }
            },
            "type": "bar"
           }
          ],
          "barpolar": [
           {
            "marker": {
             "line": {
              "color": "#E5ECF6",
              "width": 0.5
             }
            },
            "type": "barpolar"
           }
          ],
          "carpet": [
           {
            "aaxis": {
             "endlinecolor": "#2a3f5f",
             "gridcolor": "white",
             "linecolor": "white",
             "minorgridcolor": "white",
             "startlinecolor": "#2a3f5f"
            },
            "baxis": {
             "endlinecolor": "#2a3f5f",
             "gridcolor": "white",
             "linecolor": "white",
             "minorgridcolor": "white",
             "startlinecolor": "#2a3f5f"
            },
            "type": "carpet"
           }
          ],
          "choropleth": [
           {
            "colorbar": {
             "outlinewidth": 0,
             "ticks": ""
            },
            "type": "choropleth"
           }
          ],
          "contour": [
           {
            "colorbar": {
             "outlinewidth": 0,
             "ticks": ""
            },
            "colorscale": [
             [
              0,
              "#0d0887"
             ],
             [
              0.1111111111111111,
              "#46039f"
             ],
             [
              0.2222222222222222,
              "#7201a8"
             ],
             [
              0.3333333333333333,
              "#9c179e"
             ],
             [
              0.4444444444444444,
              "#bd3786"
             ],
             [
              0.5555555555555556,
              "#d8576b"
             ],
             [
              0.6666666666666666,
              "#ed7953"
             ],
             [
              0.7777777777777778,
              "#fb9f3a"
             ],
             [
              0.8888888888888888,
              "#fdca26"
             ],
             [
              1,
              "#f0f921"
             ]
            ],
            "type": "contour"
           }
          ],
          "contourcarpet": [
           {
            "colorbar": {
             "outlinewidth": 0,
             "ticks": ""
            },
            "type": "contourcarpet"
           }
          ],
          "heatmap": [
           {
            "colorbar": {
             "outlinewidth": 0,
             "ticks": ""
            },
            "colorscale": [
             [
              0,
              "#0d0887"
             ],
             [
              0.1111111111111111,
              "#46039f"
             ],
             [
              0.2222222222222222,
              "#7201a8"
             ],
             [
              0.3333333333333333,
              "#9c179e"
             ],
             [
              0.4444444444444444,
              "#bd3786"
             ],
             [
              0.5555555555555556,
              "#d8576b"
             ],
             [
              0.6666666666666666,
              "#ed7953"
             ],
             [
              0.7777777777777778,
              "#fb9f3a"
             ],
             [
              0.8888888888888888,
              "#fdca26"
             ],
             [
              1,
              "#f0f921"
             ]
            ],
            "type": "heatmap"
           }
          ],
          "heatmapgl": [
           {
            "colorbar": {
             "outlinewidth": 0,
             "ticks": ""
            },
            "colorscale": [
             [
              0,
              "#0d0887"
             ],
             [
              0.1111111111111111,
              "#46039f"
             ],
             [
              0.2222222222222222,
              "#7201a8"
             ],
             [
              0.3333333333333333,
              "#9c179e"
             ],
             [
              0.4444444444444444,
              "#bd3786"
             ],
             [
              0.5555555555555556,
              "#d8576b"
             ],
             [
              0.6666666666666666,
              "#ed7953"
             ],
             [
              0.7777777777777778,
              "#fb9f3a"
             ],
             [
              0.8888888888888888,
              "#fdca26"
             ],
             [
              1,
              "#f0f921"
             ]
            ],
            "type": "heatmapgl"
           }
          ],
          "histogram": [
           {
            "marker": {
             "colorbar": {
              "outlinewidth": 0,
              "ticks": ""
             }
            },
            "type": "histogram"
           }
          ],
          "histogram2d": [
           {
            "colorbar": {
             "outlinewidth": 0,
             "ticks": ""
            },
            "colorscale": [
             [
              0,
              "#0d0887"
             ],
             [
              0.1111111111111111,
              "#46039f"
             ],
             [
              0.2222222222222222,
              "#7201a8"
             ],
             [
              0.3333333333333333,
              "#9c179e"
             ],
             [
              0.4444444444444444,
              "#bd3786"
             ],
             [
              0.5555555555555556,
              "#d8576b"
             ],
             [
              0.6666666666666666,
              "#ed7953"
             ],
             [
              0.7777777777777778,
              "#fb9f3a"
             ],
             [
              0.8888888888888888,
              "#fdca26"
             ],
             [
              1,
              "#f0f921"
             ]
            ],
            "type": "histogram2d"
           }
          ],
          "histogram2dcontour": [
           {
            "colorbar": {
             "outlinewidth": 0,
             "ticks": ""
            },
            "colorscale": [
             [
              0,
              "#0d0887"
             ],
             [
              0.1111111111111111,
              "#46039f"
             ],
             [
              0.2222222222222222,
              "#7201a8"
             ],
             [
              0.3333333333333333,
              "#9c179e"
             ],
             [
              0.4444444444444444,
              "#bd3786"
             ],
             [
              0.5555555555555556,
              "#d8576b"
             ],
             [
              0.6666666666666666,
              "#ed7953"
             ],
             [
              0.7777777777777778,
              "#fb9f3a"
             ],
             [
              0.8888888888888888,
              "#fdca26"
             ],
             [
              1,
              "#f0f921"
             ]
            ],
            "type": "histogram2dcontour"
           }
          ],
          "mesh3d": [
           {
            "colorbar": {
             "outlinewidth": 0,
             "ticks": ""
            },
            "type": "mesh3d"
           }
          ],
          "parcoords": [
           {
            "line": {
             "colorbar": {
              "outlinewidth": 0,
              "ticks": ""
             }
            },
            "type": "parcoords"
           }
          ],
          "pie": [
           {
            "automargin": true,
            "type": "pie"
           }
          ],
          "scatter": [
           {
            "marker": {
             "colorbar": {
              "outlinewidth": 0,
              "ticks": ""
             }
            },
            "type": "scatter"
           }
          ],
          "scatter3d": [
           {
            "line": {
             "colorbar": {
              "outlinewidth": 0,
              "ticks": ""
             }
            },
            "marker": {
             "colorbar": {
              "outlinewidth": 0,
              "ticks": ""
             }
            },
            "type": "scatter3d"
           }
          ],
          "scattercarpet": [
           {
            "marker": {
             "colorbar": {
              "outlinewidth": 0,
              "ticks": ""
             }
            },
            "type": "scattercarpet"
           }
          ],
          "scattergeo": [
           {
            "marker": {
             "colorbar": {
              "outlinewidth": 0,
              "ticks": ""
             }
            },
            "type": "scattergeo"
           }
          ],
          "scattergl": [
           {
            "marker": {
             "colorbar": {
              "outlinewidth": 0,
              "ticks": ""
             }
            },
            "type": "scattergl"
           }
          ],
          "scattermapbox": [
           {
            "marker": {
             "colorbar": {
              "outlinewidth": 0,
              "ticks": ""
             }
            },
            "type": "scattermapbox"
           }
          ],
          "scatterpolar": [
           {
            "marker": {
             "colorbar": {
              "outlinewidth": 0,
              "ticks": ""
             }
            },
            "type": "scatterpolar"
           }
          ],
          "scatterpolargl": [
           {
            "marker": {
             "colorbar": {
              "outlinewidth": 0,
              "ticks": ""
             }
            },
            "type": "scatterpolargl"
           }
          ],
          "scatterternary": [
           {
            "marker": {
             "colorbar": {
              "outlinewidth": 0,
              "ticks": ""
             }
            },
            "type": "scatterternary"
           }
          ],
          "surface": [
           {
            "colorbar": {
             "outlinewidth": 0,
             "ticks": ""
            },
            "colorscale": [
             [
              0,
              "#0d0887"
             ],
             [
              0.1111111111111111,
              "#46039f"
             ],
             [
              0.2222222222222222,
              "#7201a8"
             ],
             [
              0.3333333333333333,
              "#9c179e"
             ],
             [
              0.4444444444444444,
              "#bd3786"
             ],
             [
              0.5555555555555556,
              "#d8576b"
             ],
             [
              0.6666666666666666,
              "#ed7953"
             ],
             [
              0.7777777777777778,
              "#fb9f3a"
             ],
             [
              0.8888888888888888,
              "#fdca26"
             ],
             [
              1,
              "#f0f921"
             ]
            ],
            "type": "surface"
           }
          ],
          "table": [
           {
            "cells": {
             "fill": {
              "color": "#EBF0F8"
             },
             "line": {
              "color": "white"
             }
            },
            "header": {
             "fill": {
              "color": "#C8D4E3"
             },
             "line": {
              "color": "white"
             }
            },
            "type": "table"
           }
          ]
         },
         "layout": {
          "annotationdefaults": {
           "arrowcolor": "#2a3f5f",
           "arrowhead": 0,
           "arrowwidth": 1
          },
          "coloraxis": {
           "colorbar": {
            "outlinewidth": 0,
            "ticks": ""
           }
          },
          "colorscale": {
           "diverging": [
            [
             0,
             "#8e0152"
            ],
            [
             0.1,
             "#c51b7d"
            ],
            [
             0.2,
             "#de77ae"
            ],
            [
             0.3,
             "#f1b6da"
            ],
            [
             0.4,
             "#fde0ef"
            ],
            [
             0.5,
             "#f7f7f7"
            ],
            [
             0.6,
             "#e6f5d0"
            ],
            [
             0.7,
             "#b8e186"
            ],
            [
             0.8,
             "#7fbc41"
            ],
            [
             0.9,
             "#4d9221"
            ],
            [
             1,
             "#276419"
            ]
           ],
           "sequential": [
            [
             0,
             "#0d0887"
            ],
            [
             0.1111111111111111,
             "#46039f"
            ],
            [
             0.2222222222222222,
             "#7201a8"
            ],
            [
             0.3333333333333333,
             "#9c179e"
            ],
            [
             0.4444444444444444,
             "#bd3786"
            ],
            [
             0.5555555555555556,
             "#d8576b"
            ],
            [
             0.6666666666666666,
             "#ed7953"
            ],
            [
             0.7777777777777778,
             "#fb9f3a"
            ],
            [
             0.8888888888888888,
             "#fdca26"
            ],
            [
             1,
             "#f0f921"
            ]
           ],
           "sequentialminus": [
            [
             0,
             "#0d0887"
            ],
            [
             0.1111111111111111,
             "#46039f"
            ],
            [
             0.2222222222222222,
             "#7201a8"
            ],
            [
             0.3333333333333333,
             "#9c179e"
            ],
            [
             0.4444444444444444,
             "#bd3786"
            ],
            [
             0.5555555555555556,
             "#d8576b"
            ],
            [
             0.6666666666666666,
             "#ed7953"
            ],
            [
             0.7777777777777778,
             "#fb9f3a"
            ],
            [
             0.8888888888888888,
             "#fdca26"
            ],
            [
             1,
             "#f0f921"
            ]
           ]
          },
          "colorway": [
           "#636efa",
           "#EF553B",
           "#00cc96",
           "#ab63fa",
           "#FFA15A",
           "#19d3f3",
           "#FF6692",
           "#B6E880",
           "#FF97FF",
           "#FECB52"
          ],
          "font": {
           "color": "#2a3f5f"
          },
          "geo": {
           "bgcolor": "white",
           "lakecolor": "white",
           "landcolor": "#E5ECF6",
           "showlakes": true,
           "showland": true,
           "subunitcolor": "white"
          },
          "hoverlabel": {
           "align": "left"
          },
          "hovermode": "closest",
          "mapbox": {
           "style": "light"
          },
          "paper_bgcolor": "white",
          "plot_bgcolor": "#E5ECF6",
          "polar": {
           "angularaxis": {
            "gridcolor": "white",
            "linecolor": "white",
            "ticks": ""
           },
           "bgcolor": "#E5ECF6",
           "radialaxis": {
            "gridcolor": "white",
            "linecolor": "white",
            "ticks": ""
           }
          },
          "scene": {
           "xaxis": {
            "backgroundcolor": "#E5ECF6",
            "gridcolor": "white",
            "gridwidth": 2,
            "linecolor": "white",
            "showbackground": true,
            "ticks": "",
            "zerolinecolor": "white"
           },
           "yaxis": {
            "backgroundcolor": "#E5ECF6",
            "gridcolor": "white",
            "gridwidth": 2,
            "linecolor": "white",
            "showbackground": true,
            "ticks": "",
            "zerolinecolor": "white"
           },
           "zaxis": {
            "backgroundcolor": "#E5ECF6",
            "gridcolor": "white",
            "gridwidth": 2,
            "linecolor": "white",
            "showbackground": true,
            "ticks": "",
            "zerolinecolor": "white"
           }
          },
          "shapedefaults": {
           "line": {
            "color": "#2a3f5f"
           }
          },
          "ternary": {
           "aaxis": {
            "gridcolor": "white",
            "linecolor": "white",
            "ticks": ""
           },
           "baxis": {
            "gridcolor": "white",
            "linecolor": "white",
            "ticks": ""
           },
           "bgcolor": "#E5ECF6",
           "caxis": {
            "gridcolor": "white",
            "linecolor": "white",
            "ticks": ""
           }
          },
          "title": {
           "x": 0.05
          },
          "xaxis": {
           "automargin": true,
           "gridcolor": "white",
           "linecolor": "white",
           "ticks": "",
           "title": {
            "standoff": 15
           },
           "zerolinecolor": "white",
           "zerolinewidth": 2
          },
          "yaxis": {
           "automargin": true,
           "gridcolor": "white",
           "linecolor": "white",
           "ticks": "",
           "title": {
            "standoff": 15
           },
           "zerolinecolor": "white",
           "zerolinewidth": 2
          }
         }
        }
       }
      },
      "text/html": [
       "<div>\n",
       "        \n",
       "        \n",
       "            <div id=\"e313efee-7d8d-4db0-aa49-dd62a4dcd7f1\" class=\"plotly-graph-div\" style=\"height:525px; width:100%;\"></div>\n",
       "            <script type=\"text/javascript\">\n",
       "                require([\"plotly\"], function(Plotly) {\n",
       "                    window.PLOTLYENV=window.PLOTLYENV || {};\n",
       "                    \n",
       "                if (document.getElementById(\"e313efee-7d8d-4db0-aa49-dd62a4dcd7f1\")) {\n",
       "                    Plotly.newPlot(\n",
       "                        'e313efee-7d8d-4db0-aa49-dd62a4dcd7f1',\n",
       "                        [{\"hole\": 0.5, \"labels\": [\"DOI Citation Not Created\", \"DOI Citation Pending\", \"DOI Citation Completed\"], \"type\": \"pie\", \"values\": [143812, 20, 3]}],\n",
       "                        {\"annotations\": [{\"font\": {\"size\": 20}, \"showarrow\": false, \"text\": \"DOI Citation\"}], \"template\": {\"data\": {\"bar\": [{\"error_x\": {\"color\": \"#2a3f5f\"}, \"error_y\": {\"color\": \"#2a3f5f\"}, \"marker\": {\"line\": {\"color\": \"#E5ECF6\", \"width\": 0.5}}, \"type\": \"bar\"}], \"barpolar\": [{\"marker\": {\"line\": {\"color\": \"#E5ECF6\", \"width\": 0.5}}, \"type\": \"barpolar\"}], \"carpet\": [{\"aaxis\": {\"endlinecolor\": \"#2a3f5f\", \"gridcolor\": \"white\", \"linecolor\": \"white\", \"minorgridcolor\": \"white\", \"startlinecolor\": \"#2a3f5f\"}, \"baxis\": {\"endlinecolor\": \"#2a3f5f\", \"gridcolor\": \"white\", \"linecolor\": \"white\", \"minorgridcolor\": \"white\", \"startlinecolor\": \"#2a3f5f\"}, \"type\": \"carpet\"}], \"choropleth\": [{\"colorbar\": {\"outlinewidth\": 0, \"ticks\": \"\"}, \"type\": \"choropleth\"}], \"contour\": [{\"colorbar\": {\"outlinewidth\": 0, \"ticks\": \"\"}, \"colorscale\": [[0.0, \"#0d0887\"], [0.1111111111111111, \"#46039f\"], [0.2222222222222222, \"#7201a8\"], [0.3333333333333333, \"#9c179e\"], [0.4444444444444444, \"#bd3786\"], [0.5555555555555556, \"#d8576b\"], [0.6666666666666666, \"#ed7953\"], [0.7777777777777778, \"#fb9f3a\"], [0.8888888888888888, \"#fdca26\"], [1.0, \"#f0f921\"]], \"type\": \"contour\"}], \"contourcarpet\": [{\"colorbar\": {\"outlinewidth\": 0, \"ticks\": \"\"}, \"type\": \"contourcarpet\"}], \"heatmap\": [{\"colorbar\": {\"outlinewidth\": 0, \"ticks\": \"\"}, \"colorscale\": [[0.0, \"#0d0887\"], [0.1111111111111111, \"#46039f\"], [0.2222222222222222, \"#7201a8\"], [0.3333333333333333, \"#9c179e\"], [0.4444444444444444, \"#bd3786\"], [0.5555555555555556, \"#d8576b\"], [0.6666666666666666, \"#ed7953\"], [0.7777777777777778, \"#fb9f3a\"], [0.8888888888888888, \"#fdca26\"], [1.0, \"#f0f921\"]], \"type\": \"heatmap\"}], \"heatmapgl\": [{\"colorbar\": {\"outlinewidth\": 0, \"ticks\": \"\"}, \"colorscale\": [[0.0, \"#0d0887\"], [0.1111111111111111, \"#46039f\"], [0.2222222222222222, \"#7201a8\"], [0.3333333333333333, \"#9c179e\"], [0.4444444444444444, \"#bd3786\"], [0.5555555555555556, \"#d8576b\"], [0.6666666666666666, \"#ed7953\"], [0.7777777777777778, \"#fb9f3a\"], [0.8888888888888888, \"#fdca26\"], [1.0, \"#f0f921\"]], \"type\": \"heatmapgl\"}], \"histogram\": [{\"marker\": {\"colorbar\": {\"outlinewidth\": 0, \"ticks\": \"\"}}, \"type\": \"histogram\"}], \"histogram2d\": [{\"colorbar\": {\"outlinewidth\": 0, \"ticks\": \"\"}, \"colorscale\": [[0.0, \"#0d0887\"], [0.1111111111111111, \"#46039f\"], [0.2222222222222222, \"#7201a8\"], [0.3333333333333333, \"#9c179e\"], [0.4444444444444444, \"#bd3786\"], [0.5555555555555556, \"#d8576b\"], [0.6666666666666666, \"#ed7953\"], [0.7777777777777778, \"#fb9f3a\"], [0.8888888888888888, \"#fdca26\"], [1.0, \"#f0f921\"]], \"type\": \"histogram2d\"}], \"histogram2dcontour\": [{\"colorbar\": {\"outlinewidth\": 0, \"ticks\": \"\"}, \"colorscale\": [[0.0, \"#0d0887\"], [0.1111111111111111, \"#46039f\"], [0.2222222222222222, \"#7201a8\"], [0.3333333333333333, \"#9c179e\"], [0.4444444444444444, \"#bd3786\"], [0.5555555555555556, \"#d8576b\"], [0.6666666666666666, \"#ed7953\"], [0.7777777777777778, \"#fb9f3a\"], [0.8888888888888888, \"#fdca26\"], [1.0, \"#f0f921\"]], \"type\": \"histogram2dcontour\"}], \"mesh3d\": [{\"colorbar\": {\"outlinewidth\": 0, \"ticks\": \"\"}, \"type\": \"mesh3d\"}], \"parcoords\": [{\"line\": {\"colorbar\": {\"outlinewidth\": 0, \"ticks\": \"\"}}, \"type\": \"parcoords\"}], \"pie\": [{\"automargin\": true, \"type\": \"pie\"}], \"scatter\": [{\"marker\": {\"colorbar\": {\"outlinewidth\": 0, \"ticks\": \"\"}}, \"type\": \"scatter\"}], \"scatter3d\": [{\"line\": {\"colorbar\": {\"outlinewidth\": 0, \"ticks\": \"\"}}, \"marker\": {\"colorbar\": {\"outlinewidth\": 0, \"ticks\": \"\"}}, \"type\": \"scatter3d\"}], \"scattercarpet\": [{\"marker\": {\"colorbar\": {\"outlinewidth\": 0, \"ticks\": \"\"}}, \"type\": \"scattercarpet\"}], \"scattergeo\": [{\"marker\": {\"colorbar\": {\"outlinewidth\": 0, \"ticks\": \"\"}}, \"type\": \"scattergeo\"}], \"scattergl\": [{\"marker\": {\"colorbar\": {\"outlinewidth\": 0, \"ticks\": \"\"}}, \"type\": \"scattergl\"}], \"scattermapbox\": [{\"marker\": {\"colorbar\": {\"outlinewidth\": 0, \"ticks\": \"\"}}, \"type\": \"scattermapbox\"}], \"scatterpolar\": [{\"marker\": {\"colorbar\": {\"outlinewidth\": 0, \"ticks\": \"\"}}, \"type\": \"scatterpolar\"}], \"scatterpolargl\": [{\"marker\": {\"colorbar\": {\"outlinewidth\": 0, \"ticks\": \"\"}}, \"type\": \"scatterpolargl\"}], \"scatterternary\": [{\"marker\": {\"colorbar\": {\"outlinewidth\": 0, \"ticks\": \"\"}}, \"type\": \"scatterternary\"}], \"surface\": [{\"colorbar\": {\"outlinewidth\": 0, \"ticks\": \"\"}, \"colorscale\": [[0.0, \"#0d0887\"], [0.1111111111111111, \"#46039f\"], [0.2222222222222222, \"#7201a8\"], [0.3333333333333333, \"#9c179e\"], [0.4444444444444444, \"#bd3786\"], [0.5555555555555556, \"#d8576b\"], [0.6666666666666666, \"#ed7953\"], [0.7777777777777778, \"#fb9f3a\"], [0.8888888888888888, \"#fdca26\"], [1.0, \"#f0f921\"]], \"type\": \"surface\"}], \"table\": [{\"cells\": {\"fill\": {\"color\": \"#EBF0F8\"}, \"line\": {\"color\": \"white\"}}, \"header\": {\"fill\": {\"color\": \"#C8D4E3\"}, \"line\": {\"color\": \"white\"}}, \"type\": \"table\"}]}, \"layout\": {\"annotationdefaults\": {\"arrowcolor\": \"#2a3f5f\", \"arrowhead\": 0, \"arrowwidth\": 1}, \"coloraxis\": {\"colorbar\": {\"outlinewidth\": 0, \"ticks\": \"\"}}, \"colorscale\": {\"diverging\": [[0, \"#8e0152\"], [0.1, \"#c51b7d\"], [0.2, \"#de77ae\"], [0.3, \"#f1b6da\"], [0.4, \"#fde0ef\"], [0.5, \"#f7f7f7\"], [0.6, \"#e6f5d0\"], [0.7, \"#b8e186\"], [0.8, \"#7fbc41\"], [0.9, \"#4d9221\"], [1, \"#276419\"]], \"sequential\": [[0.0, \"#0d0887\"], [0.1111111111111111, \"#46039f\"], [0.2222222222222222, \"#7201a8\"], [0.3333333333333333, \"#9c179e\"], [0.4444444444444444, \"#bd3786\"], [0.5555555555555556, \"#d8576b\"], [0.6666666666666666, \"#ed7953\"], [0.7777777777777778, \"#fb9f3a\"], [0.8888888888888888, \"#fdca26\"], [1.0, \"#f0f921\"]], \"sequentialminus\": [[0.0, \"#0d0887\"], [0.1111111111111111, \"#46039f\"], [0.2222222222222222, \"#7201a8\"], [0.3333333333333333, \"#9c179e\"], [0.4444444444444444, \"#bd3786\"], [0.5555555555555556, \"#d8576b\"], [0.6666666666666666, \"#ed7953\"], [0.7777777777777778, \"#fb9f3a\"], [0.8888888888888888, \"#fdca26\"], [1.0, \"#f0f921\"]]}, \"colorway\": [\"#636efa\", \"#EF553B\", \"#00cc96\", \"#ab63fa\", \"#FFA15A\", \"#19d3f3\", \"#FF6692\", \"#B6E880\", \"#FF97FF\", \"#FECB52\"], \"font\": {\"color\": \"#2a3f5f\"}, \"geo\": {\"bgcolor\": \"white\", \"lakecolor\": \"white\", \"landcolor\": \"#E5ECF6\", \"showlakes\": true, \"showland\": true, \"subunitcolor\": \"white\"}, \"hoverlabel\": {\"align\": \"left\"}, \"hovermode\": \"closest\", \"mapbox\": {\"style\": \"light\"}, \"paper_bgcolor\": \"white\", \"plot_bgcolor\": \"#E5ECF6\", \"polar\": {\"angularaxis\": {\"gridcolor\": \"white\", \"linecolor\": \"white\", \"ticks\": \"\"}, \"bgcolor\": \"#E5ECF6\", \"radialaxis\": {\"gridcolor\": \"white\", \"linecolor\": \"white\", \"ticks\": \"\"}}, \"scene\": {\"xaxis\": {\"backgroundcolor\": \"#E5ECF6\", \"gridcolor\": \"white\", \"gridwidth\": 2, \"linecolor\": \"white\", \"showbackground\": true, \"ticks\": \"\", \"zerolinecolor\": \"white\"}, \"yaxis\": {\"backgroundcolor\": \"#E5ECF6\", \"gridcolor\": \"white\", \"gridwidth\": 2, \"linecolor\": \"white\", \"showbackground\": true, \"ticks\": \"\", \"zerolinecolor\": \"white\"}, \"zaxis\": {\"backgroundcolor\": \"#E5ECF6\", \"gridcolor\": \"white\", \"gridwidth\": 2, \"linecolor\": \"white\", \"showbackground\": true, \"ticks\": \"\", \"zerolinecolor\": \"white\"}}, \"shapedefaults\": {\"line\": {\"color\": \"#2a3f5f\"}}, \"ternary\": {\"aaxis\": {\"gridcolor\": \"white\", \"linecolor\": \"white\", \"ticks\": \"\"}, \"baxis\": {\"gridcolor\": \"white\", \"linecolor\": \"white\", \"ticks\": \"\"}, \"bgcolor\": \"#E5ECF6\", \"caxis\": {\"gridcolor\": \"white\", \"linecolor\": \"white\", \"ticks\": \"\"}}, \"title\": {\"x\": 0.05}, \"xaxis\": {\"automargin\": true, \"gridcolor\": \"white\", \"linecolor\": \"white\", \"ticks\": \"\", \"title\": {\"standoff\": 15}, \"zerolinecolor\": \"white\", \"zerolinewidth\": 2}, \"yaxis\": {\"automargin\": true, \"gridcolor\": \"white\", \"linecolor\": \"white\", \"ticks\": \"\", \"title\": {\"standoff\": 15}, \"zerolinecolor\": \"white\", \"zerolinewidth\": 2}}}},\n",
       "                        {\"responsive\": true}\n",
       "                    ).then(function(){\n",
       "                            \n",
       "var gd = document.getElementById('e313efee-7d8d-4db0-aa49-dd62a4dcd7f1');\n",
       "var x = new MutationObserver(function (mutations, observer) {{\n",
       "        var display = window.getComputedStyle(gd).display;\n",
       "        if (!display || display === 'none') {{\n",
       "            console.log([gd, 'removed!']);\n",
       "            Plotly.purge(gd);\n",
       "            observer.disconnect();\n",
       "        }}\n",
       "}});\n",
       "\n",
       "// Listen for the removal of the full notebook cells\n",
       "var notebookContainer = gd.closest('#notebook-container');\n",
       "if (notebookContainer) {{\n",
       "    x.observe(notebookContainer, {childList: true});\n",
       "}}\n",
       "\n",
       "// Listen for the clearing of the current output cell\n",
       "var outputEl = gd.closest('.output');\n",
       "if (outputEl) {{\n",
       "    x.observe(outputEl, {childList: true});\n",
       "}}\n",
       "\n",
       "                        })\n",
       "                };\n",
       "                });\n",
       "            </script>\n",
       "        </div>"
      ]
     },
     "metadata": {},
     "output_type": "display_data"
    }
   ],
   "source": [
    "fig = make_doi_citation_created()\n",
    "fig.show()"
   ]
  },
  {
   "cell_type": "code",
   "execution_count": 6,
   "metadata": {},
   "outputs": [
    {
     "data": {
      "text/html": [
       "<div>\n",
       "<style scoped>\n",
       "    .dataframe tbody tr th:only-of-type {\n",
       "        vertical-align: middle;\n",
       "    }\n",
       "\n",
       "    .dataframe tbody tr th {\n",
       "        vertical-align: top;\n",
       "    }\n",
       "\n",
       "    .dataframe thead th {\n",
       "        text-align: right;\n",
       "    }\n",
       "</style>\n",
       "<table border=\"1\" class=\"dataframe\">\n",
       "  <thead>\n",
       "    <tr style=\"text-align: right;\">\n",
       "      <th></th>\n",
       "      <th>_id</th>\n",
       "      <th>material_id</th>\n",
       "      <th>doi</th>\n",
       "      <th>bibtex</th>\n",
       "      <th>status</th>\n",
       "      <th>valid</th>\n",
       "      <th>last_updated</th>\n",
       "      <th>created_at</th>\n",
       "      <th>last_validated_on</th>\n",
       "    </tr>\n",
       "  </thead>\n",
       "  <tbody>\n",
       "    <tr>\n",
       "      <th>0</th>\n",
       "      <td>5ed7ed19f3951ad25c70899d</td>\n",
       "      <td>mp-1173151</td>\n",
       "      <td>10.17188/1479772</td>\n",
       "      <td>@article{osti_1479772,\\n  title        = {Mate...</td>\n",
       "      <td>COMPLETED</td>\n",
       "      <td>True</td>\n",
       "      <td>2020-06-03 11:34:32.838</td>\n",
       "      <td>2020-06-03 11:34:32.838</td>\n",
       "      <td>2020-06-04 17:23:36.221</td>\n",
       "    </tr>\n",
       "    <tr>\n",
       "      <th>1</th>\n",
       "      <td>5ed7ed19f3951ad25c70899e</td>\n",
       "      <td>mp-1194956</td>\n",
       "      <td>10.17188/1479783</td>\n",
       "      <td>@article{osti_1479783,\\n  title        = {Mate...</td>\n",
       "      <td>COMPLETED</td>\n",
       "      <td>True</td>\n",
       "      <td>2020-06-03 11:34:32.838</td>\n",
       "      <td>2020-06-03 11:34:32.838</td>\n",
       "      <td>2020-06-04 17:23:36.222</td>\n",
       "    </tr>\n",
       "    <tr>\n",
       "      <th>2</th>\n",
       "      <td>5ed7ed19f3951ad25c70899f</td>\n",
       "      <td>mp-1204405</td>\n",
       "      <td>10.17188/1479784</td>\n",
       "      <td>@article{osti_1479784,\\n  title        = {Mate...</td>\n",
       "      <td>COMPLETED</td>\n",
       "      <td>True</td>\n",
       "      <td>2020-06-03 11:34:32.838</td>\n",
       "      <td>2020-06-03 11:34:32.838</td>\n",
       "      <td>2020-06-04 17:23:36.222</td>\n",
       "    </tr>\n",
       "    <tr>\n",
       "      <th>3</th>\n",
       "      <td>5ed7ed19f3951ad25c7089a0</td>\n",
       "      <td>mp-556728</td>\n",
       "      <td>10.17188/1479785</td>\n",
       "      <td>@article{osti_1479785,\\n  title        = {Mate...</td>\n",
       "      <td>COMPLETED</td>\n",
       "      <td>True</td>\n",
       "      <td>2020-06-03 11:34:32.838</td>\n",
       "      <td>2020-06-03 11:34:32.838</td>\n",
       "      <td>2020-06-04 17:23:36.222</td>\n",
       "    </tr>\n",
       "    <tr>\n",
       "      <th>4</th>\n",
       "      <td>5ed7ed19f3951ad25c7089a1</td>\n",
       "      <td>mp-542374</td>\n",
       "      <td>10.17188/1479786</td>\n",
       "      <td>@article{osti_1479786,\\n  title        = {Mate...</td>\n",
       "      <td>COMPLETED</td>\n",
       "      <td>True</td>\n",
       "      <td>2020-06-03 11:34:32.838</td>\n",
       "      <td>2020-06-03 11:34:32.838</td>\n",
       "      <td>2020-06-04 17:23:36.222</td>\n",
       "    </tr>\n",
       "    <tr>\n",
       "      <th>5</th>\n",
       "      <td>5ed7ed19f3951ad25c7089ab</td>\n",
       "      <td>mp-979270</td>\n",
       "      <td>10.17188/1479802</td>\n",
       "      <td>@article{osti_1479802,\\n  title        = {Mate...</td>\n",
       "      <td>COMPLETED</td>\n",
       "      <td>True</td>\n",
       "      <td>2020-06-03 11:34:32.838</td>\n",
       "      <td>2020-06-03 11:34:32.838</td>\n",
       "      <td>2020-06-04 17:23:36.222</td>\n",
       "    </tr>\n",
       "    <tr>\n",
       "      <th>6</th>\n",
       "      <td>5ed7ed19f3951ad25c7089ac</td>\n",
       "      <td>mp-1197073</td>\n",
       "      <td>10.17188/1479803</td>\n",
       "      <td>@article{osti_1479803,\\n  title        = {Mate...</td>\n",
       "      <td>COMPLETED</td>\n",
       "      <td>True</td>\n",
       "      <td>2020-06-03 11:34:32.838</td>\n",
       "      <td>2020-06-03 11:34:32.838</td>\n",
       "      <td>2020-06-04 17:23:36.222</td>\n",
       "    </tr>\n",
       "    <tr>\n",
       "      <th>7</th>\n",
       "      <td>5ed7ed19f3951ad25c7089ad</td>\n",
       "      <td>mp-1147638</td>\n",
       "      <td>10.17188/1479804</td>\n",
       "      <td>@article{osti_1479804,\\n  title        = {Mate...</td>\n",
       "      <td>COMPLETED</td>\n",
       "      <td>True</td>\n",
       "      <td>2020-06-03 11:34:32.838</td>\n",
       "      <td>2020-06-03 11:34:32.838</td>\n",
       "      <td>2020-06-04 17:23:36.222</td>\n",
       "    </tr>\n",
       "    <tr>\n",
       "      <th>8</th>\n",
       "      <td>5ed7ed19f3951ad25c7089ae</td>\n",
       "      <td>mp-1176596</td>\n",
       "      <td>10.17188/1479805</td>\n",
       "      <td>@article{osti_1479805,\\n  title        = {Mate...</td>\n",
       "      <td>COMPLETED</td>\n",
       "      <td>True</td>\n",
       "      <td>2020-06-03 11:34:32.838</td>\n",
       "      <td>2020-06-03 11:34:32.838</td>\n",
       "      <td>2020-06-04 17:23:36.222</td>\n",
       "    </tr>\n",
       "    <tr>\n",
       "      <th>9</th>\n",
       "      <td>5ed7ed19f3951ad25c7089af</td>\n",
       "      <td>mp-30656</td>\n",
       "      <td>10.17188/1479826</td>\n",
       "      <td>@article{osti_1479826,\\n  title        = {Mate...</td>\n",
       "      <td>COMPLETED</td>\n",
       "      <td>True</td>\n",
       "      <td>2020-06-03 11:34:32.838</td>\n",
       "      <td>2020-06-03 11:34:32.838</td>\n",
       "      <td>2020-06-04 17:23:36.223</td>\n",
       "    </tr>\n",
       "    <tr>\n",
       "      <th>10</th>\n",
       "      <td>5ed7ed19f3951ad25c7089b0</td>\n",
       "      <td>mp-1237770</td>\n",
       "      <td>10.17188/1479827</td>\n",
       "      <td>@article{osti_1479827,\\n  title        = {Mate...</td>\n",
       "      <td>COMPLETED</td>\n",
       "      <td>True</td>\n",
       "      <td>2020-06-03 11:34:32.838</td>\n",
       "      <td>2020-06-03 11:34:32.838</td>\n",
       "      <td>2020-06-04 17:23:36.223</td>\n",
       "    </tr>\n",
       "    <tr>\n",
       "      <th>11</th>\n",
       "      <td>5ed7ed19f3951ad25c7089b1</td>\n",
       "      <td>mp-10000</td>\n",
       "      <td>10.5072/1322004</td>\n",
       "      <td>@article{osti_1322004,\\n  title        = {Mate...</td>\n",
       "      <td>COMPLETED</td>\n",
       "      <td>True</td>\n",
       "      <td>2020-06-03 11:35:52.016</td>\n",
       "      <td>2020-06-03 11:34:32.838</td>\n",
       "      <td>2020-06-04 17:23:36.223</td>\n",
       "    </tr>\n",
       "    <tr>\n",
       "      <th>12</th>\n",
       "      <td>5ed7ed19f3951ad25c7089b2</td>\n",
       "      <td>mp-1199448</td>\n",
       "      <td>10.17188/1479847</td>\n",
       "      <td>@article{osti_1479847,\\n  title        = {Mate...</td>\n",
       "      <td>COMPLETED</td>\n",
       "      <td>True</td>\n",
       "      <td>2020-06-03 11:34:32.838</td>\n",
       "      <td>2020-06-03 11:34:32.838</td>\n",
       "      <td>2020-06-04 17:23:36.223</td>\n",
       "    </tr>\n",
       "    <tr>\n",
       "      <th>13</th>\n",
       "      <td>5ed7ed19f3951ad25c7089b3</td>\n",
       "      <td>mp-19406</td>\n",
       "      <td>10.17188/1479858</td>\n",
       "      <td>@article{osti_1479858,\\n  title        = {Mate...</td>\n",
       "      <td>COMPLETED</td>\n",
       "      <td>True</td>\n",
       "      <td>2020-06-03 11:34:32.838</td>\n",
       "      <td>2020-06-03 11:34:32.838</td>\n",
       "      <td>2020-06-04 17:23:36.223</td>\n",
       "    </tr>\n",
       "    <tr>\n",
       "      <th>14</th>\n",
       "      <td>5ed7edc3f3951ad25c708a20</td>\n",
       "      <td>mp-1210983</td>\n",
       "      <td>10.17188/1479954</td>\n",
       "      <td>@article{osti_1479954,\\n  title        = {Mate...</td>\n",
       "      <td>COMPLETED</td>\n",
       "      <td>True</td>\n",
       "      <td>2020-06-03 11:35:38.262</td>\n",
       "      <td>2020-06-03 11:35:38.262</td>\n",
       "      <td>2020-06-04 17:23:36.223</td>\n",
       "    </tr>\n",
       "    <tr>\n",
       "      <th>15</th>\n",
       "      <td>5ed7edc3f3951ad25c708a21</td>\n",
       "      <td>mp-25971</td>\n",
       "      <td>10.17188/1479955</td>\n",
       "      <td>@article{osti_1479955,\\n  title        = {Mate...</td>\n",
       "      <td>COMPLETED</td>\n",
       "      <td>True</td>\n",
       "      <td>2020-06-03 11:35:38.262</td>\n",
       "      <td>2020-06-03 11:35:38.262</td>\n",
       "      <td>2020-06-04 17:23:36.223</td>\n",
       "    </tr>\n",
       "    <tr>\n",
       "      <th>16</th>\n",
       "      <td>5ed7edc3f3951ad25c708a22</td>\n",
       "      <td>mp-1193752</td>\n",
       "      <td>10.17188/1479956</td>\n",
       "      <td>@article{osti_1479956,\\n  title        = {Mate...</td>\n",
       "      <td>COMPLETED</td>\n",
       "      <td>True</td>\n",
       "      <td>2020-06-03 11:35:38.262</td>\n",
       "      <td>2020-06-03 11:35:38.262</td>\n",
       "      <td>2020-06-04 17:23:36.223</td>\n",
       "    </tr>\n",
       "    <tr>\n",
       "      <th>17</th>\n",
       "      <td>5ed7edc3f3951ad25c708a23</td>\n",
       "      <td>mp-1190442</td>\n",
       "      <td>10.17188/1479957</td>\n",
       "      <td>@article{osti_1479957,\\n  title        = {Mate...</td>\n",
       "      <td>COMPLETED</td>\n",
       "      <td>True</td>\n",
       "      <td>2020-06-03 11:35:38.262</td>\n",
       "      <td>2020-06-03 11:35:38.262</td>\n",
       "      <td>2020-06-04 17:23:36.224</td>\n",
       "    </tr>\n",
       "    <tr>\n",
       "      <th>18</th>\n",
       "      <td>5ed7edc3f3951ad25c708a24</td>\n",
       "      <td>mp-1198907</td>\n",
       "      <td>10.17188/1479958</td>\n",
       "      <td>@article{osti_1479958,\\n  title        = {Mate...</td>\n",
       "      <td>COMPLETED</td>\n",
       "      <td>True</td>\n",
       "      <td>2020-06-03 11:35:38.262</td>\n",
       "      <td>2020-06-03 11:35:38.262</td>\n",
       "      <td>2020-06-04 17:23:36.224</td>\n",
       "    </tr>\n",
       "    <tr>\n",
       "      <th>19</th>\n",
       "      <td>5ed7edc3f3951ad25c708a25</td>\n",
       "      <td>mp-1087476</td>\n",
       "      <td>10.17188/1479959</td>\n",
       "      <td>@article{osti_1479959,\\n  title        = {Mate...</td>\n",
       "      <td>COMPLETED</td>\n",
       "      <td>True</td>\n",
       "      <td>2020-06-03 11:35:38.262</td>\n",
       "      <td>2020-06-03 11:35:38.262</td>\n",
       "      <td>2020-06-04 17:23:36.225</td>\n",
       "    </tr>\n",
       "    <tr>\n",
       "      <th>20</th>\n",
       "      <td>5ed7edc3f3951ad25c708a26</td>\n",
       "      <td>mp-1187225</td>\n",
       "      <td>10.17188/1479960</td>\n",
       "      <td>@article{osti_1479960,\\n  title        = {Mate...</td>\n",
       "      <td>COMPLETED</td>\n",
       "      <td>True</td>\n",
       "      <td>2020-06-03 11:35:38.262</td>\n",
       "      <td>2020-06-03 11:35:38.262</td>\n",
       "      <td>2020-06-04 17:23:36.227</td>\n",
       "    </tr>\n",
       "    <tr>\n",
       "      <th>21</th>\n",
       "      <td>5ed7edc3f3951ad25c708a27</td>\n",
       "      <td>mp-976023</td>\n",
       "      <td>10.17188/1479961</td>\n",
       "      <td>@article{osti_1479961,\\n  title        = {Mate...</td>\n",
       "      <td>COMPLETED</td>\n",
       "      <td>True</td>\n",
       "      <td>2020-06-03 11:35:38.262</td>\n",
       "      <td>2020-06-03 11:35:38.262</td>\n",
       "      <td>2020-06-04 17:23:36.228</td>\n",
       "    </tr>\n",
       "    <tr>\n",
       "      <th>22</th>\n",
       "      <td>5ed7edc3f3951ad25c708a28</td>\n",
       "      <td>mp-540784</td>\n",
       "      <td>10.17188/1479962</td>\n",
       "      <td>@article{osti_1479962,\\n  title        = {Mate...</td>\n",
       "      <td>COMPLETED</td>\n",
       "      <td>True</td>\n",
       "      <td>2020-06-03 11:35:38.262</td>\n",
       "      <td>2020-06-03 11:35:38.262</td>\n",
       "      <td>2020-06-04 17:23:36.229</td>\n",
       "    </tr>\n",
       "    <tr>\n",
       "      <th>23</th>\n",
       "      <td>5ed7ee9cf3951ad25c708a8f</td>\n",
       "      <td>mp-1221361</td>\n",
       "      <td>10.17188/1479983</td>\n",
       "      <td>@article{osti_1479983,\\n  title        = {Mate...</td>\n",
       "      <td>COMPLETED</td>\n",
       "      <td>True</td>\n",
       "      <td>2020-06-03 11:39:19.850</td>\n",
       "      <td>2020-06-03 11:39:19.850</td>\n",
       "      <td>2020-06-04 17:23:36.236</td>\n",
       "    </tr>\n",
       "    <tr>\n",
       "      <th>24</th>\n",
       "      <td>5ed7ee9cf3951ad25c708a91</td>\n",
       "      <td>mp-1040999</td>\n",
       "      <td>10.17188/1479985</td>\n",
       "      <td>@article{osti_1479985,\\n  title        = {Mate...</td>\n",
       "      <td>COMPLETED</td>\n",
       "      <td>True</td>\n",
       "      <td>2020-06-03 11:39:19.850</td>\n",
       "      <td>2020-06-03 11:39:19.850</td>\n",
       "      <td>2020-06-04 17:23:36.236</td>\n",
       "    </tr>\n",
       "    <tr>\n",
       "      <th>25</th>\n",
       "      <td>5ed7f207f3951ad25c708bae</td>\n",
       "      <td>mp-1018888</td>\n",
       "      <td>10.17188/1480021</td>\n",
       "      <td>@article{osti_1480021,\\n  title        = {Mate...</td>\n",
       "      <td>COMPLETED</td>\n",
       "      <td>True</td>\n",
       "      <td>2020-06-03 11:54:36.438</td>\n",
       "      <td>2020-06-03 11:54:36.438</td>\n",
       "      <td>2020-06-04 17:23:36.237</td>\n",
       "    </tr>\n",
       "    <tr>\n",
       "      <th>26</th>\n",
       "      <td>5ed7f207f3951ad25c708baf</td>\n",
       "      <td>mp-561249</td>\n",
       "      <td>10.17188/1480022</td>\n",
       "      <td>@article{osti_1480022,\\n  title        = {Mate...</td>\n",
       "      <td>COMPLETED</td>\n",
       "      <td>True</td>\n",
       "      <td>2020-06-03 11:54:36.438</td>\n",
       "      <td>2020-06-03 11:54:36.438</td>\n",
       "      <td>2020-06-04 17:23:36.237</td>\n",
       "    </tr>\n",
       "  </tbody>\n",
       "</table>\n",
       "</div>"
      ],
      "text/plain": [
       "                         _id material_id               doi  \\\n",
       "0   5ed7ed19f3951ad25c70899d  mp-1173151  10.17188/1479772   \n",
       "1   5ed7ed19f3951ad25c70899e  mp-1194956  10.17188/1479783   \n",
       "2   5ed7ed19f3951ad25c70899f  mp-1204405  10.17188/1479784   \n",
       "3   5ed7ed19f3951ad25c7089a0   mp-556728  10.17188/1479785   \n",
       "4   5ed7ed19f3951ad25c7089a1   mp-542374  10.17188/1479786   \n",
       "5   5ed7ed19f3951ad25c7089ab   mp-979270  10.17188/1479802   \n",
       "6   5ed7ed19f3951ad25c7089ac  mp-1197073  10.17188/1479803   \n",
       "7   5ed7ed19f3951ad25c7089ad  mp-1147638  10.17188/1479804   \n",
       "8   5ed7ed19f3951ad25c7089ae  mp-1176596  10.17188/1479805   \n",
       "9   5ed7ed19f3951ad25c7089af    mp-30656  10.17188/1479826   \n",
       "10  5ed7ed19f3951ad25c7089b0  mp-1237770  10.17188/1479827   \n",
       "11  5ed7ed19f3951ad25c7089b1    mp-10000   10.5072/1322004   \n",
       "12  5ed7ed19f3951ad25c7089b2  mp-1199448  10.17188/1479847   \n",
       "13  5ed7ed19f3951ad25c7089b3    mp-19406  10.17188/1479858   \n",
       "14  5ed7edc3f3951ad25c708a20  mp-1210983  10.17188/1479954   \n",
       "15  5ed7edc3f3951ad25c708a21    mp-25971  10.17188/1479955   \n",
       "16  5ed7edc3f3951ad25c708a22  mp-1193752  10.17188/1479956   \n",
       "17  5ed7edc3f3951ad25c708a23  mp-1190442  10.17188/1479957   \n",
       "18  5ed7edc3f3951ad25c708a24  mp-1198907  10.17188/1479958   \n",
       "19  5ed7edc3f3951ad25c708a25  mp-1087476  10.17188/1479959   \n",
       "20  5ed7edc3f3951ad25c708a26  mp-1187225  10.17188/1479960   \n",
       "21  5ed7edc3f3951ad25c708a27   mp-976023  10.17188/1479961   \n",
       "22  5ed7edc3f3951ad25c708a28   mp-540784  10.17188/1479962   \n",
       "23  5ed7ee9cf3951ad25c708a8f  mp-1221361  10.17188/1479983   \n",
       "24  5ed7ee9cf3951ad25c708a91  mp-1040999  10.17188/1479985   \n",
       "25  5ed7f207f3951ad25c708bae  mp-1018888  10.17188/1480021   \n",
       "26  5ed7f207f3951ad25c708baf   mp-561249  10.17188/1480022   \n",
       "\n",
       "                                               bibtex     status  valid  \\\n",
       "0   @article{osti_1479772,\\n  title        = {Mate...  COMPLETED   True   \n",
       "1   @article{osti_1479783,\\n  title        = {Mate...  COMPLETED   True   \n",
       "2   @article{osti_1479784,\\n  title        = {Mate...  COMPLETED   True   \n",
       "3   @article{osti_1479785,\\n  title        = {Mate...  COMPLETED   True   \n",
       "4   @article{osti_1479786,\\n  title        = {Mate...  COMPLETED   True   \n",
       "5   @article{osti_1479802,\\n  title        = {Mate...  COMPLETED   True   \n",
       "6   @article{osti_1479803,\\n  title        = {Mate...  COMPLETED   True   \n",
       "7   @article{osti_1479804,\\n  title        = {Mate...  COMPLETED   True   \n",
       "8   @article{osti_1479805,\\n  title        = {Mate...  COMPLETED   True   \n",
       "9   @article{osti_1479826,\\n  title        = {Mate...  COMPLETED   True   \n",
       "10  @article{osti_1479827,\\n  title        = {Mate...  COMPLETED   True   \n",
       "11  @article{osti_1322004,\\n  title        = {Mate...  COMPLETED   True   \n",
       "12  @article{osti_1479847,\\n  title        = {Mate...  COMPLETED   True   \n",
       "13  @article{osti_1479858,\\n  title        = {Mate...  COMPLETED   True   \n",
       "14  @article{osti_1479954,\\n  title        = {Mate...  COMPLETED   True   \n",
       "15  @article{osti_1479955,\\n  title        = {Mate...  COMPLETED   True   \n",
       "16  @article{osti_1479956,\\n  title        = {Mate...  COMPLETED   True   \n",
       "17  @article{osti_1479957,\\n  title        = {Mate...  COMPLETED   True   \n",
       "18  @article{osti_1479958,\\n  title        = {Mate...  COMPLETED   True   \n",
       "19  @article{osti_1479959,\\n  title        = {Mate...  COMPLETED   True   \n",
       "20  @article{osti_1479960,\\n  title        = {Mate...  COMPLETED   True   \n",
       "21  @article{osti_1479961,\\n  title        = {Mate...  COMPLETED   True   \n",
       "22  @article{osti_1479962,\\n  title        = {Mate...  COMPLETED   True   \n",
       "23  @article{osti_1479983,\\n  title        = {Mate...  COMPLETED   True   \n",
       "24  @article{osti_1479985,\\n  title        = {Mate...  COMPLETED   True   \n",
       "25  @article{osti_1480021,\\n  title        = {Mate...  COMPLETED   True   \n",
       "26  @article{osti_1480022,\\n  title        = {Mate...  COMPLETED   True   \n",
       "\n",
       "              last_updated              created_at       last_validated_on  \n",
       "0  2020-06-03 11:34:32.838 2020-06-03 11:34:32.838 2020-06-04 17:23:36.221  \n",
       "1  2020-06-03 11:34:32.838 2020-06-03 11:34:32.838 2020-06-04 17:23:36.222  \n",
       "2  2020-06-03 11:34:32.838 2020-06-03 11:34:32.838 2020-06-04 17:23:36.222  \n",
       "3  2020-06-03 11:34:32.838 2020-06-03 11:34:32.838 2020-06-04 17:23:36.222  \n",
       "4  2020-06-03 11:34:32.838 2020-06-03 11:34:32.838 2020-06-04 17:23:36.222  \n",
       "5  2020-06-03 11:34:32.838 2020-06-03 11:34:32.838 2020-06-04 17:23:36.222  \n",
       "6  2020-06-03 11:34:32.838 2020-06-03 11:34:32.838 2020-06-04 17:23:36.222  \n",
       "7  2020-06-03 11:34:32.838 2020-06-03 11:34:32.838 2020-06-04 17:23:36.222  \n",
       "8  2020-06-03 11:34:32.838 2020-06-03 11:34:32.838 2020-06-04 17:23:36.222  \n",
       "9  2020-06-03 11:34:32.838 2020-06-03 11:34:32.838 2020-06-04 17:23:36.223  \n",
       "10 2020-06-03 11:34:32.838 2020-06-03 11:34:32.838 2020-06-04 17:23:36.223  \n",
       "11 2020-06-03 11:35:52.016 2020-06-03 11:34:32.838 2020-06-04 17:23:36.223  \n",
       "12 2020-06-03 11:34:32.838 2020-06-03 11:34:32.838 2020-06-04 17:23:36.223  \n",
       "13 2020-06-03 11:34:32.838 2020-06-03 11:34:32.838 2020-06-04 17:23:36.223  \n",
       "14 2020-06-03 11:35:38.262 2020-06-03 11:35:38.262 2020-06-04 17:23:36.223  \n",
       "15 2020-06-03 11:35:38.262 2020-06-03 11:35:38.262 2020-06-04 17:23:36.223  \n",
       "16 2020-06-03 11:35:38.262 2020-06-03 11:35:38.262 2020-06-04 17:23:36.223  \n",
       "17 2020-06-03 11:35:38.262 2020-06-03 11:35:38.262 2020-06-04 17:23:36.224  \n",
       "18 2020-06-03 11:35:38.262 2020-06-03 11:35:38.262 2020-06-04 17:23:36.224  \n",
       "19 2020-06-03 11:35:38.262 2020-06-03 11:35:38.262 2020-06-04 17:23:36.225  \n",
       "20 2020-06-03 11:35:38.262 2020-06-03 11:35:38.262 2020-06-04 17:23:36.227  \n",
       "21 2020-06-03 11:35:38.262 2020-06-03 11:35:38.262 2020-06-04 17:23:36.228  \n",
       "22 2020-06-03 11:35:38.262 2020-06-03 11:35:38.262 2020-06-04 17:23:36.229  \n",
       "23 2020-06-03 11:39:19.850 2020-06-03 11:39:19.850 2020-06-04 17:23:36.236  \n",
       "24 2020-06-03 11:39:19.850 2020-06-03 11:39:19.850 2020-06-04 17:23:36.236  \n",
       "25 2020-06-03 11:54:36.438 2020-06-03 11:54:36.438 2020-06-04 17:23:36.237  \n",
       "26 2020-06-03 11:54:36.438 2020-06-03 11:54:36.438 2020-06-04 17:23:36.237  "
      ]
     },
     "execution_count": 6,
     "metadata": {},
     "output_type": "execute_result"
    }
   ],
   "source": [
    "cursor = list(oma.doi_store.query())\n",
    "df = pd.DataFrame(list(cursor))\n",
    "df"
   ]
  },
  {
   "cell_type": "code",
   "execution_count": null,
   "metadata": {},
   "outputs": [],
   "source": []
  },
  {
   "cell_type": "code",
   "execution_count": null,
   "metadata": {},
   "outputs": [],
   "source": []
  }
 ],
 "metadata": {
  "kernelspec": {
   "display_name": "Python 3",
   "language": "python",
   "name": "python3"
  },
  "language_info": {
   "codemirror_mode": {
    "name": "ipython",
    "version": 3
   },
   "file_extension": ".py",
   "mimetype": "text/x-python",
   "name": "python",
   "nbconvert_exporter": "python",
   "pygments_lexer": "ipython3",
   "version": "3.7.7"
  }
 },
 "nbformat": 4,
 "nbformat_minor": 4
}

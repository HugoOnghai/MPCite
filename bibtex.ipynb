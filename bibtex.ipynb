{
 "cells": [
  {
   "cell_type": "code",
   "execution_count": 21,
   "metadata": {},
   "outputs": [],
   "source": [
    "import bibtexparser\n",
    "from bibtexparser.bparser import BibTexParser\n",
    "\n",
    "bib = \"\"\"@article{osti_1483278,                                                                                                                                \n",
    "  title        = {Materials Data on ZrB6 by Materials Project},\n",
    "  author       = {Persson, Kristin},\n",
    "  abstractNote = {ZrB6 is Calcium hexaboride structured and crystallizes in the cubic Pm-3m space group. The structure is three-dimensional. Zr is bonded in a 1-coordinate geometry to twenty-four equivalent B atoms. All Zr–B bond lengths are 2.98 Å. B is bonded in a 1-coordinate geometry to four equivalent Zr and five equivalent B atoms. There is one shorter (1.60 Å) and four longer (1.74 Å) B–B bond length.},\n",
    "  doi          = {10.80460/1483278},\n",
    "  journal      = {},\n",
    "  number       = ,\n",
    "  volume       = ,\n",
    "  place        = {United States},\n",
    "  year         = 2020,\n",
    "  month        = 5,\n",
    "  note         = {An optional note}, \n",
    "}\n",
    "\"\"\""
   ]
  },
  {
   "cell_type": "code",
   "execution_count": 22,
   "metadata": {},
   "outputs": [
    {
     "data": {
      "text/plain": [
       "'@article{osti_1483278,                                                                                                                                  title        = {Materials Data on ZrB6 by Materials Project},  author       = {Persson, Kristin},  abstractNote = {ZrB6 is Calcium hexaboride structured and crystallizes in the cubic Pm-3m space group. The structure is three-dimensional. Zr is bonded in a 1-coordinate geometry to twenty-four equivalent B atoms. All Zr–B bond lengths are 2.98 Å. B is bonded in a 1-coordinate geometry to four equivalent Zr and five equivalent B atoms. There is one shorter (1.60 Å) and four longer (1.74 Å) B–B bond length.},  doi          = {10.80460/1483278},  journal      = {},  place        = {United States},  year         = 2020,  month        = 5,  note         = {An optional note}, }'"
      ]
     },
     "execution_count": 22,
     "metadata": {},
     "output_type": "execute_result"
    }
   ],
   "source": [
    "new_bib = \"\"\n",
    "for line in bib.splitlines():\n",
    "    if \"= ,\" not in line:\n",
    "        new_bib  = new_bib + line\n",
    "new_bib"
   ]
  },
  {
   "cell_type": "code",
   "execution_count": 23,
   "metadata": {},
   "outputs": [
    {
     "data": {
      "text/plain": [
       "[{'note': 'An optional note',\n",
       "  'month': '5',\n",
       "  'year': '2020',\n",
       "  'place': 'United States',\n",
       "  'journal': '',\n",
       "  'doi': '10.80460/1483278',\n",
       "  'abstractnote': 'ZrB6 is Calcium hexaboride structured and crystallizes in the cubic Pm-3m space group. The structure is three-dimensional. Zr is bonded in a 1-coordinate geometry to twenty-four equivalent B atoms. All Zr–B bond lengths are 2.98 Å. B is bonded in a 1-coordinate geometry to four equivalent Zr and five equivalent B atoms. There is one shorter (1.60 Å) and four longer (1.74 Å) B–B bond length.',\n",
       "  'author': 'Persson, Kristin',\n",
       "  'title': 'Materials Data on ZrB6 by Materials Project',\n",
       "  'ENTRYTYPE': 'article',\n",
       "  'ID': 'osti_1483278'}]"
      ]
     },
     "execution_count": 23,
     "metadata": {},
     "output_type": "execute_result"
    }
   ],
   "source": [
    "bib_db:bibtexparser.bibdatabase.BibDatabase = bibtexparser.loads(new_bib)\n",
    "bib_db.entries"
   ]
  },
  {
   "cell_type": "code",
   "execution_count": null,
   "metadata": {},
   "outputs": [],
   "source": []
  }
 ],
 "metadata": {
  "kernelspec": {
   "display_name": "Python 3",
   "language": "python",
   "name": "python3"
  },
  "language_info": {
   "codemirror_mode": {
    "name": "ipython",
    "version": 3
   },
   "file_extension": ".py",
   "mimetype": "text/x-python",
   "name": "python",
   "nbconvert_exporter": "python",
   "pygments_lexer": "ipython3",
   "version": "3.7.7"
  }
 },
 "nbformat": 4,
 "nbformat_minor": 4
}
